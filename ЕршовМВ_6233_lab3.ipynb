{
  "cells": [
    {
      "cell_type": "markdown",
      "id": "a1e043b4",
      "metadata": {
        "id": "a1e043b4"
      },
      "source": [
        "## Лабораторная работа 3.\n",
        "\n",
        "## Ершов Михаил Владимирович"
      ]
    },
    {
      "cell_type": "markdown",
      "id": "03412b6d",
      "metadata": {
        "id": "03412b6d"
      },
      "source": [
        "1) Полносвязная нейронная сеть ( Fully-Connected Neural Network)\n",
        "\n",
        "2) Нормализация по мини-батчам (Batch normalization)\n",
        "\n",
        "3) Dropout\n",
        "\n",
        "4) Сверточные нейронные сети (Convolutional Networks)"
      ]
    },
    {
      "cell_type": "markdown",
      "id": "5fc8b276",
      "metadata": {
        "id": "5fc8b276"
      },
      "source": [
        "### 1. Полносвязная нейронная сеть"
      ]
    },
    {
      "cell_type": "markdown",
      "id": "8cbe905c",
      "metadata": {
        "id": "8cbe905c"
      },
      "source": [
        "В данной лабораторной работе необходимо будет реализовать полносвязную нейронную сеть, используя модульный подход. Для каждого слоя реализации прямого и обратного проходов алгоритма обратного распространения ошибки будут иметь следующий вид:"
      ]
    },
    {
      "cell_type": "raw",
      "id": "b7ecffe5",
      "metadata": {
        "id": "b7ecffe5"
      },
      "source": [
        "def layer_forward(x, w):\n",
        "  \"\"\" Receive inputs x and weights w \"\"\"\n",
        "  # Do some computations ...\n",
        "  z = # ... some intermediate value\n",
        "  # Do some more computations ...\n",
        "  out = # the output\n",
        "\n",
        "  cache = (x, w, z, out) # Values we need to compute gradients\n",
        "\n",
        "  return out, cache\n",
        "def layer_backward(dout, cache):\n",
        "  \"\"\"\n",
        "  Receive dout (derivative of loss with respect to outputs) and cache,\n",
        "  and compute derivative with respect to inputs.\n",
        "  \"\"\"\n",
        "  # Unpack cache values\n",
        "  x, w, z, out = cache\n",
        "\n",
        "  # Use values in cache to compute derivatives\n",
        "  dx = # Derivative of loss with respect to x\n",
        "  dw = # Derivative of loss with respect to w\n",
        "\n",
        "  return dx, dw"
      ]
    },
    {
      "cell_type": "code",
      "execution_count": null,
      "id": "906198a3",
      "metadata": {
        "id": "906198a3"
      },
      "outputs": [],
      "source": [
        "import time\n",
        "import numpy as np\n",
        "import matplotlib.pyplot as plt"
      ]
    },
    {
      "cell_type": "code",
      "execution_count": null,
      "id": "16f1a4eb",
      "metadata": {
        "id": "16f1a4eb"
      },
      "outputs": [],
      "source": [
        "from scripts.classifiers.fc_net import *\n",
        "from scripts.gradient_check import eval_numerical_gradient, eval_numerical_gradient_array\n",
        "from scripts.solver import Solver\n",
        "from scripts.classifiers.cnn import *\n",
        "from scripts.layers import *\n",
        "from scripts.fast_layers import *"
      ]
    },
    {
      "cell_type": "code",
      "execution_count": null,
      "id": "9a93e759",
      "metadata": {
        "id": "9a93e759"
      },
      "outputs": [],
      "source": [
        "%matplotlib inline"
      ]
    },
    {
      "cell_type": "code",
      "execution_count": null,
      "id": "560db6ed",
      "metadata": {
        "id": "560db6ed",
        "outputId": "531f40ba-3e7b-4272-94db-563fb4061fb4"
      },
      "outputs": [
        {
          "name": "stdout",
          "output_type": "stream",
          "text": [
            "The autoreload extension is already loaded. To reload it, use:\n",
            "  %reload_ext autoreload\n"
          ]
        }
      ],
      "source": [
        "plt.rcParams['figure.figsize'] = (10.0, 8.0)  \n",
        "plt.rcParams['image.interpolation'] = 'nearest'\n",
        "plt.rcParams['image.cmap'] = 'gray'\n",
        "\n",
        "# for auto-reloading external modules\n",
        "# see http://stackoverflow.com/questions/1907993/autoreload-of-modules-in-ipython\n",
        "%load_ext autoreload\n",
        "%autoreload 2\n",
        "\n",
        "def rel_error(x, y):\n",
        "  \"\"\" returns relative error \"\"\"\n",
        "  return np.max(np.abs(x - y) / (np.maximum(1e-8, np.abs(x) + np.abs(y))))\n",
        "\n",
        "def print_mean_std(x,axis=0):\n",
        "    print('  means: ', x.mean(axis=axis))\n",
        "    print('  stds:  ', x.std(axis=axis))\n",
        "    print() \n"
      ]
    },
    {
      "cell_type": "markdown",
      "id": "ae41ea2e",
      "metadata": {
        "id": "ae41ea2e"
      },
      "source": [
        "Загрузите данные из предыдущей лабораторной работы."
      ]
    },
    {
      "cell_type": "code",
      "execution_count": null,
      "id": "31fda972",
      "metadata": {
        "id": "31fda972"
      },
      "outputs": [],
      "source": [
        "from scripts.data_utils import get_CIFAR10_data"
      ]
    },
    {
      "cell_type": "code",
      "execution_count": null,
      "id": "1ea94ce6",
      "metadata": {
        "id": "1ea94ce6",
        "outputId": "ec22f356-c865-46b7-96a6-122669722ef7"
      },
      "outputs": [
        {
          "name": "stdout",
          "output_type": "stream",
          "text": [
            "('X_train: ', (49000, 3, 32, 32))\n",
            "('y_train: ', (49000,))\n",
            "('X_val: ', (1000, 3, 32, 32))\n",
            "('y_val: ', (1000,))\n",
            "('X_test: ', (1000, 3, 32, 32))\n",
            "('y_test: ', (1000,))\n"
          ]
        }
      ],
      "source": [
        "# Load the (preprocessed) CIFAR10 data.\n",
        "\n",
        "data = get_CIFAR10_data()\n",
        "for k, v in list(data.items()):\n",
        "    print(('%s: ' % k, v.shape))"
      ]
    },
    {
      "cell_type": "markdown",
      "id": "43ede62c",
      "metadata": {
        "id": "43ede62c"
      },
      "source": [
        "Для полносвязного слоя реализуйте прямой проход (метод affine_forward в scripts/layers.py). Протестируйте свою реализацию."
      ]
    },
    {
      "cell_type": "code",
      "execution_count": null,
      "id": "13e13d98",
      "metadata": {
        "id": "13e13d98",
        "outputId": "025d5fce-3b62-4321-a8b9-89f4440f4482"
      },
      "outputs": [
        {
          "name": "stdout",
          "output_type": "stream",
          "text": [
            "Testing affine_forward function:\n",
            "difference:  9.769849468192957e-10\n"
          ]
        }
      ],
      "source": [
        "num_inputs = 2\n",
        "input_shape = (4, 5, 6)\n",
        "output_dim = 3\n",
        "\n",
        "input_size = num_inputs * np.prod(input_shape)\n",
        "weight_size = output_dim * np.prod(input_shape)\n",
        "\n",
        "x = np.linspace(-0.1, 0.5, num=input_size).reshape(num_inputs, *input_shape)\n",
        "w = np.linspace(-0.2, 0.3, num=weight_size).reshape(np.prod(input_shape), output_dim)\n",
        "b = np.linspace(-0.3, 0.1, num=output_dim)\n",
        "\n",
        "out, _ = affine_forward(x, w, b)\n",
        "correct_out = np.array([[ 1.49834967,  1.70660132,  1.91485297],\n",
        "                        [ 3.25553199,  3.5141327,   3.77273342]])\n",
        "\n",
        "\n",
        "print('Testing affine_forward function:')\n",
        "print('difference: ', rel_error(out, correct_out))"
      ]
    },
    {
      "cell_type": "markdown",
      "id": "5d10ec5c",
      "metadata": {
        "id": "5d10ec5c"
      },
      "source": [
        "Для полносвязного слоя реализуйте обратный проход (метод affine_backward в scripts/layers.py). Протестируйте свою реализацию."
      ]
    },
    {
      "cell_type": "code",
      "execution_count": null,
      "id": "1fc985ca",
      "metadata": {
        "id": "1fc985ca",
        "outputId": "fa10dd7f-c9d6-43f7-84e1-09629f9b8dac"
      },
      "outputs": [
        {
          "name": "stdout",
          "output_type": "stream",
          "text": [
            "Testing affine_backward function:\n",
            "dx error:  5.399100368651805e-11\n",
            "dw error:  9.904211865398145e-11\n",
            "db error:  2.4122867568119087e-11\n"
          ]
        }
      ],
      "source": [
        "np.random.seed(231)\n",
        "x = np.random.randn(10, 2, 3)\n",
        "w = np.random.randn(6, 5)\n",
        "b = np.random.randn(5)\n",
        "dout = np.random.randn(10, 5)\n",
        "\n",
        "dx_num = eval_numerical_gradient_array(lambda x: affine_forward(x, w, b)[0], x, dout)\n",
        "dw_num = eval_numerical_gradient_array(lambda w: affine_forward(x, w, b)[0], w, dout)\n",
        "db_num = eval_numerical_gradient_array(lambda b: affine_forward(x, w, b)[0], b, dout)\n",
        "\n",
        "_, cache = affine_forward(x, w, b)\n",
        "dx, dw, db = affine_backward(dout, cache)\n",
        "\n",
        "print('Testing affine_backward function:')\n",
        "print('dx error: ', rel_error(dx_num, dx))\n",
        "print('dw error: ', rel_error(dw_num, dw))\n",
        "print('db error: ', rel_error(db_num, db))"
      ]
    },
    {
      "cell_type": "markdown",
      "id": "aeb19b74",
      "metadata": {
        "id": "aeb19b74"
      },
      "source": [
        "Реализуйте прямой проход для слоя активации ReLU (relu_forward) и протестируйте его."
      ]
    },
    {
      "cell_type": "code",
      "execution_count": null,
      "id": "7b57a0ba",
      "metadata": {
        "id": "7b57a0ba",
        "outputId": "b3e30b98-9738-4808-e1c9-956f98592ef6"
      },
      "outputs": [
        {
          "name": "stdout",
          "output_type": "stream",
          "text": [
            "Testing relu_forward function:\n",
            "difference:  4.999999798022158e-08\n"
          ]
        }
      ],
      "source": [
        "x = np.linspace(-0.5, 0.5, num=12).reshape(3, 4)\n",
        "\n",
        "out, _ = relu_forward(x)\n",
        "correct_out = np.array([[ 0.,          0.,          0.,          0.,        ],\n",
        "                        [ 0.,          0.,          0.04545455,  0.13636364,],\n",
        "                        [ 0.22727273,  0.31818182,  0.40909091,  0.5,       ]])\n",
        "\n",
        "# Compare your output with ours. The error should be on the order of e-8\n",
        "print('Testing relu_forward function:')\n",
        "print('difference: ', rel_error(out, correct_out))"
      ]
    },
    {
      "cell_type": "markdown",
      "id": "9f43456e",
      "metadata": {
        "id": "9f43456e"
      },
      "source": [
        "Реализуйте обратный проход для слоя активации ReLU (relu_backward ) и протестируйте его."
      ]
    },
    {
      "cell_type": "code",
      "execution_count": null,
      "id": "acf8c8e5",
      "metadata": {
        "id": "acf8c8e5",
        "outputId": "07e0767e-37d7-42b9-96ba-a5851fde3dc4"
      },
      "outputs": [
        {
          "name": "stdout",
          "output_type": "stream",
          "text": [
            "Testing relu_backward function:\n",
            "dx error:  3.2756349136310288e-12\n"
          ]
        }
      ],
      "source": [
        "np.random.seed(231)\n",
        "x = np.random.randn(10, 10)\n",
        "dout = np.random.randn(*x.shape)\n",
        "\n",
        "dx_num = eval_numerical_gradient_array(lambda x: relu_forward(x)[0], x, dout)\n",
        "\n",
        "_, cache = relu_forward(x)\n",
        "dx = relu_backward(dout, cache)\n",
        "\n",
        "# The error should be on the order of e-12\n",
        "print('Testing relu_backward function:')\n",
        "print('dx error: ', rel_error(dx_num, dx))"
      ]
    },
    {
      "cell_type": "markdown",
      "id": "8f11c617",
      "metadata": {
        "id": "8f11c617"
      },
      "source": [
        "В скрипте /layer_utils.py приведены реализации прямого и обратного проходов для часто используемых комбинаций слоев. Например, за полносвязным слоем часто следует слой активации. Ознакомьтесь с функциями affine_relu_forward и affine_relu_backward, запустите код ниже и убедитесь, что ошибка порядка e-10 или ниже."
      ]
    },
    {
      "cell_type": "code",
      "execution_count": null,
      "id": "c32d8f0a",
      "metadata": {
        "id": "c32d8f0a",
        "outputId": "6a9fcee3-4617-45ba-d310-5c7db977595a"
      },
      "outputs": [
        {
          "name": "stdout",
          "output_type": "stream",
          "text": [
            "Testing affine_relu_forward and affine_relu_backward:\n",
            "dx error:  2.299579177309368e-11\n",
            "dw error:  8.162011105764925e-11\n",
            "db error:  7.826724021458994e-12\n"
          ]
        }
      ],
      "source": [
        "from scripts.layer_utils import affine_relu_forward, affine_relu_backward\n",
        "np.random.seed(231)\n",
        "x = np.random.randn(2, 3, 4)\n",
        "w = np.random.randn(12, 10)\n",
        "b = np.random.randn(10)\n",
        "dout = np.random.randn(2, 10)\n",
        "\n",
        "out, cache = affine_relu_forward(x, w, b)\n",
        "dx, dw, db = affine_relu_backward(dout, cache)\n",
        "\n",
        "dx_num = eval_numerical_gradient_array(lambda x: affine_relu_forward(x, w, b)[0], x, dout)\n",
        "dw_num = eval_numerical_gradient_array(lambda w: affine_relu_forward(x, w, b)[0], w, dout)\n",
        "db_num = eval_numerical_gradient_array(lambda b: affine_relu_forward(x, w, b)[0], b, dout)\n",
        "\n",
        "# Relative error should be around e-10 or less\n",
        "print('Testing affine_relu_forward and affine_relu_backward:')\n",
        "print('dx error: ', rel_error(dx_num, dx))\n",
        "print('dw error: ', rel_error(dw_num, dw))\n",
        "print('db error: ', rel_error(db_num, db))"
      ]
    },
    {
      "cell_type": "markdown",
      "id": "3644820f",
      "metadata": {
        "id": "3644820f"
      },
      "source": [
        "Реализуйте двухслойную полносвязную сеть - класс TwoLayerNet в scripts/classifiers/fc_net.py . Проверьте свою реализацию, запустив код ниже."
      ]
    },
    {
      "cell_type": "code",
      "execution_count": null,
      "id": "e9bbf1fb",
      "metadata": {
        "id": "e9bbf1fb",
        "outputId": "ee787623-fed0-4889-acee-b14dd47df01b"
      },
      "outputs": [
        {
          "name": "stdout",
          "output_type": "stream",
          "text": [
            "Testing initialization ... \n",
            "Testing test-time forward pass ... \n",
            "Testing training loss (no regularization)\n",
            "Running numeric gradient check with reg =  0.0\n",
            "W1 relative error: 1.83e-08\n",
            "W2 relative error: 3.31e-10\n",
            "b1 relative error: 9.83e-09\n",
            "b2 relative error: 4.33e-10\n",
            "Running numeric gradient check with reg =  0.7\n",
            "W1 relative error: 2.53e-07\n",
            "W2 relative error: 7.98e-08\n",
            "b1 relative error: 1.56e-08\n",
            "b2 relative error: 7.76e-10\n"
          ]
        }
      ],
      "source": [
        "np.random.seed(231)\n",
        "N, D, H, C = 3, 5, 50, 7\n",
        "X = np.random.randn(N, D)\n",
        "y = np.random.randint(C, size=N)\n",
        "\n",
        "std = 1e-3\n",
        "model = TwoLayerNet(input_dim=D, hidden_dim=H, num_classes=C, weight_scale=std)\n",
        "\n",
        "print('Testing initialization ... ')\n",
        "W1_std = abs(model.params['W1'].std() - std)\n",
        "b1 = model.params['b1']\n",
        "W2_std = abs(model.params['W2'].std() - std)\n",
        "b2 = model.params['b2']\n",
        "assert W1_std < std / 10, 'First layer weights do not seem right'\n",
        "assert np.all(b1 == 0), 'First layer biases do not seem right'\n",
        "assert W2_std < std / 10, 'Second layer weights do not seem right'\n",
        "assert np.all(b2 == 0), 'Second layer biases do not seem right'\n",
        "\n",
        "print('Testing test-time forward pass ... ')\n",
        "model.params['W1'] = np.linspace(-0.7, 0.3, num=D*H).reshape(D, H)\n",
        "model.params['b1'] = np.linspace(-0.1, 0.9, num=H)\n",
        "model.params['W2'] = np.linspace(-0.3, 0.4, num=H*C).reshape(H, C)\n",
        "model.params['b2'] = np.linspace(-0.9, 0.1, num=C)\n",
        "X = np.linspace(-5.5, 4.5, num=N*D).reshape(D, N).T\n",
        "scores = model.loss(X)\n",
        "correct_scores = np.asarray(\n",
        "  [[11.53165108,  12.2917344,   13.05181771,  13.81190102,  14.57198434, 15.33206765,  16.09215096],\n",
        "   [12.05769098,  12.74614105,  13.43459113,  14.1230412,   14.81149128, 15.49994135,  16.18839143],\n",
        "   [12.58373087,  13.20054771,  13.81736455,  14.43418138,  15.05099822, 15.66781506,  16.2846319 ]])\n",
        "scores_diff = np.abs(scores - correct_scores).sum()\n",
        "assert scores_diff < 1e-6, 'Problem with test-time forward pass'\n",
        "\n",
        "print('Testing training loss (no regularization)')\n",
        "y = np.asarray([0, 5, 1])\n",
        "loss, grads = model.loss(X, y)\n",
        "correct_loss = 3.4702243556\n",
        "assert abs(loss - correct_loss) < 1e-10, 'Problem with training-time loss'\n",
        "\n",
        "model.reg = 1.0\n",
        "loss, grads = model.loss(X, y)\n",
        "correct_loss = 26.5948426952\n",
        "assert abs(loss - correct_loss) < 1e-10, 'Problem with regularization loss'\n",
        "\n",
        "# Errors should be around e-7 or less\n",
        "for reg in [0.0, 0.7]:\n",
        "    print('Running numeric gradient check with reg = ', reg)\n",
        "    model.reg = reg\n",
        "    loss, grads = model.loss(X, y)\n",
        "\n",
        "    for name in sorted(grads):\n",
        "        f = lambda _: model.loss(X, y)[0]\n",
        "        grad_num = eval_numerical_gradient(f, model.params[name], verbose=False)\n",
        "        print('%s relative error: %.2e' % (name, rel_error(grad_num, grads[name])))"
      ]
    },
    {
      "cell_type": "markdown",
      "id": "de8f59a3",
      "metadata": {
        "id": "de8f59a3"
      },
      "source": [
        "Ознакомьтесь с API для обучения и тестирования моделей в scripts/solver.py . Используйте экземпляр класса Solver для обучения двухслойной полносвязной сети. Необходимо достичь минимум 50% верно классифицированных объектов на валидационном наборе."
      ]
    },
    {
      "cell_type": "code",
      "execution_count": null,
      "id": "2e439010",
      "metadata": {
        "id": "2e439010",
        "outputId": "c5cf61d7-1519-4eb6-eef1-2f0984cf85d1"
      },
      "outputs": [
        {
          "name": "stdout",
          "output_type": "stream",
          "text": [
            "(Iteration 1 / 4900) loss: 2.304060\n",
            "(Epoch 0 / 10) train acc: 0.116000; val_acc: 0.094000\n",
            "(Iteration 11 / 4900) loss: 2.252924\n",
            "(Iteration 21 / 4900) loss: 2.128607\n",
            "(Iteration 31 / 4900) loss: 2.033476\n",
            "(Iteration 41 / 4900) loss: 1.990910\n",
            "(Iteration 51 / 4900) loss: 2.043805\n",
            "(Iteration 61 / 4900) loss: 1.959265\n",
            "(Iteration 71 / 4900) loss: 1.921205\n",
            "(Iteration 81 / 4900) loss: 1.892495\n",
            "(Iteration 91 / 4900) loss: 1.768856\n",
            "(Iteration 101 / 4900) loss: 1.829613\n",
            "(Iteration 111 / 4900) loss: 1.683077\n",
            "(Iteration 121 / 4900) loss: 1.752042\n",
            "(Iteration 131 / 4900) loss: 1.703082\n",
            "(Iteration 141 / 4900) loss: 1.815607\n",
            "(Iteration 151 / 4900) loss: 1.669903\n",
            "(Iteration 161 / 4900) loss: 1.738107\n",
            "(Iteration 171 / 4900) loss: 1.604972\n",
            "(Iteration 181 / 4900) loss: 1.648884\n",
            "(Iteration 191 / 4900) loss: 1.638778\n",
            "(Iteration 201 / 4900) loss: 1.857390\n",
            "(Iteration 211 / 4900) loss: 1.678935\n",
            "(Iteration 221 / 4900) loss: 1.756143\n",
            "(Iteration 231 / 4900) loss: 1.643596\n",
            "(Iteration 241 / 4900) loss: 1.541258\n",
            "(Iteration 251 / 4900) loss: 1.438778\n",
            "(Iteration 261 / 4900) loss: 1.718157\n",
            "(Iteration 271 / 4900) loss: 1.667385\n",
            "(Iteration 281 / 4900) loss: 1.673117\n",
            "(Iteration 291 / 4900) loss: 1.648107\n",
            "(Iteration 301 / 4900) loss: 1.744448\n",
            "(Iteration 311 / 4900) loss: 1.564542\n",
            "(Iteration 321 / 4900) loss: 1.468176\n",
            "(Iteration 331 / 4900) loss: 1.456966\n",
            "(Iteration 341 / 4900) loss: 1.738916\n",
            "(Iteration 351 / 4900) loss: 1.692797\n",
            "(Iteration 361 / 4900) loss: 1.846269\n",
            "(Iteration 371 / 4900) loss: 1.721635\n",
            "(Iteration 381 / 4900) loss: 1.605864\n",
            "(Iteration 391 / 4900) loss: 1.569607\n",
            "(Iteration 401 / 4900) loss: 1.420187\n",
            "(Iteration 411 / 4900) loss: 1.678849\n",
            "(Iteration 421 / 4900) loss: 1.470442\n",
            "(Iteration 431 / 4900) loss: 1.538895\n",
            "(Iteration 441 / 4900) loss: 1.564820\n",
            "(Iteration 451 / 4900) loss: 1.629710\n",
            "(Iteration 461 / 4900) loss: 1.478026\n",
            "(Iteration 471 / 4900) loss: 1.474794\n",
            "(Iteration 481 / 4900) loss: 1.393539\n",
            "(Epoch 1 / 10) train acc: 0.407000; val_acc: 0.422000\n",
            "(Iteration 491 / 4900) loss: 1.614235\n",
            "(Iteration 501 / 4900) loss: 1.571098\n",
            "(Iteration 511 / 4900) loss: 1.368939\n",
            "(Iteration 521 / 4900) loss: 1.657021\n",
            "(Iteration 531 / 4900) loss: 1.617090\n",
            "(Iteration 541 / 4900) loss: 1.434755\n",
            "(Iteration 551 / 4900) loss: 1.546197\n",
            "(Iteration 561 / 4900) loss: 1.370004\n",
            "(Iteration 571 / 4900) loss: 1.538495\n",
            "(Iteration 581 / 4900) loss: 1.422498\n",
            "(Iteration 591 / 4900) loss: 1.620753\n",
            "(Iteration 601 / 4900) loss: 1.726845\n",
            "(Iteration 611 / 4900) loss: 1.475981\n",
            "(Iteration 621 / 4900) loss: 1.487198\n",
            "(Iteration 631 / 4900) loss: 1.399302\n",
            "(Iteration 641 / 4900) loss: 1.519546\n",
            "(Iteration 651 / 4900) loss: 1.509952\n",
            "(Iteration 661 / 4900) loss: 1.520833\n",
            "(Iteration 671 / 4900) loss: 1.261828\n",
            "(Iteration 681 / 4900) loss: 1.644086\n",
            "(Iteration 691 / 4900) loss: 1.595198\n",
            "(Iteration 701 / 4900) loss: 1.747839\n",
            "(Iteration 711 / 4900) loss: 1.581193\n",
            "(Iteration 721 / 4900) loss: 1.518134\n",
            "(Iteration 731 / 4900) loss: 1.732234\n",
            "(Iteration 741 / 4900) loss: 1.363732\n",
            "(Iteration 751 / 4900) loss: 1.610255\n",
            "(Iteration 761 / 4900) loss: 1.470794\n",
            "(Iteration 771 / 4900) loss: 1.536175\n",
            "(Iteration 781 / 4900) loss: 1.544084\n",
            "(Iteration 791 / 4900) loss: 1.592065\n",
            "(Iteration 801 / 4900) loss: 1.703327\n",
            "(Iteration 811 / 4900) loss: 1.561165\n",
            "(Iteration 821 / 4900) loss: 1.467692\n",
            "(Iteration 831 / 4900) loss: 1.615637\n",
            "(Iteration 841 / 4900) loss: 1.412531\n",
            "(Iteration 851 / 4900) loss: 1.747436\n",
            "(Iteration 861 / 4900) loss: 1.285444\n",
            "(Iteration 871 / 4900) loss: 1.559845\n",
            "(Iteration 881 / 4900) loss: 1.372600\n",
            "(Iteration 891 / 4900) loss: 1.466596\n",
            "(Iteration 901 / 4900) loss: 1.428047\n",
            "(Iteration 911 / 4900) loss: 1.268202\n",
            "(Iteration 921 / 4900) loss: 1.532521\n",
            "(Iteration 931 / 4900) loss: 1.534894\n",
            "(Iteration 941 / 4900) loss: 1.523745\n",
            "(Iteration 951 / 4900) loss: 1.388947\n",
            "(Iteration 961 / 4900) loss: 1.451698\n",
            "(Iteration 971 / 4900) loss: 1.483893\n",
            "(Epoch 2 / 10) train acc: 0.487000; val_acc: 0.474000\n",
            "(Iteration 981 / 4900) loss: 1.598932\n",
            "(Iteration 991 / 4900) loss: 1.446271\n",
            "(Iteration 1001 / 4900) loss: 1.399741\n",
            "(Iteration 1011 / 4900) loss: 1.434130\n",
            "(Iteration 1021 / 4900) loss: 1.544415\n",
            "(Iteration 1031 / 4900) loss: 1.526880\n",
            "(Iteration 1041 / 4900) loss: 1.399221\n",
            "(Iteration 1051 / 4900) loss: 1.295858\n",
            "(Iteration 1061 / 4900) loss: 1.703397\n",
            "(Iteration 1071 / 4900) loss: 1.542740\n",
            "(Iteration 1081 / 4900) loss: 1.381502\n",
            "(Iteration 1091 / 4900) loss: 1.360807\n",
            "(Iteration 1101 / 4900) loss: 1.290807\n",
            "(Iteration 1111 / 4900) loss: 1.485128\n",
            "(Iteration 1121 / 4900) loss: 1.630049\n",
            "(Iteration 1131 / 4900) loss: 1.549808\n",
            "(Iteration 1141 / 4900) loss: 1.378163\n",
            "(Iteration 1151 / 4900) loss: 1.301097\n",
            "(Iteration 1161 / 4900) loss: 1.345471\n",
            "(Iteration 1171 / 4900) loss: 1.425363\n",
            "(Iteration 1181 / 4900) loss: 1.486109\n",
            "(Iteration 1191 / 4900) loss: 1.317047\n",
            "(Iteration 1201 / 4900) loss: 1.656827\n",
            "(Iteration 1211 / 4900) loss: 1.577482\n",
            "(Iteration 1221 / 4900) loss: 1.554820\n",
            "(Iteration 1231 / 4900) loss: 1.484324\n",
            "(Iteration 1241 / 4900) loss: 1.448167\n",
            "(Iteration 1251 / 4900) loss: 1.470963\n",
            "(Iteration 1261 / 4900) loss: 1.691837\n",
            "(Iteration 1271 / 4900) loss: 1.354181\n",
            "(Iteration 1281 / 4900) loss: 1.471158\n",
            "(Iteration 1291 / 4900) loss: 1.438112\n",
            "(Iteration 1301 / 4900) loss: 1.457438\n",
            "(Iteration 1311 / 4900) loss: 1.315871\n",
            "(Iteration 1321 / 4900) loss: 1.492235\n",
            "(Iteration 1331 / 4900) loss: 1.368037\n",
            "(Iteration 1341 / 4900) loss: 1.393432\n",
            "(Iteration 1351 / 4900) loss: 1.482991\n",
            "(Iteration 1361 / 4900) loss: 1.354098\n",
            "(Iteration 1371 / 4900) loss: 1.428462\n",
            "(Iteration 1381 / 4900) loss: 1.347514\n",
            "(Iteration 1391 / 4900) loss: 1.540673\n",
            "(Iteration 1401 / 4900) loss: 1.188739\n",
            "(Iteration 1411 / 4900) loss: 1.503901\n",
            "(Iteration 1421 / 4900) loss: 1.370377\n",
            "(Iteration 1431 / 4900) loss: 1.483856\n",
            "(Iteration 1441 / 4900) loss: 1.398517\n",
            "(Iteration 1451 / 4900) loss: 1.694669\n",
            "(Iteration 1461 / 4900) loss: 1.110112\n",
            "(Epoch 3 / 10) train acc: 0.496000; val_acc: 0.469000\n",
            "(Iteration 1471 / 4900) loss: 1.342608\n",
            "(Iteration 1481 / 4900) loss: 1.324562\n",
            "(Iteration 1491 / 4900) loss: 1.365114\n",
            "(Iteration 1501 / 4900) loss: 1.371855\n",
            "(Iteration 1511 / 4900) loss: 1.370361\n",
            "(Iteration 1521 / 4900) loss: 1.362755\n",
            "(Iteration 1531 / 4900) loss: 1.450211\n",
            "(Iteration 1541 / 4900) loss: 1.288608\n",
            "(Iteration 1551 / 4900) loss: 1.329760\n",
            "(Iteration 1561 / 4900) loss: 1.069477\n",
            "(Iteration 1571 / 4900) loss: 1.590304\n",
            "(Iteration 1581 / 4900) loss: 1.382104\n",
            "(Iteration 1591 / 4900) loss: 1.433222\n",
            "(Iteration 1601 / 4900) loss: 1.284642\n",
            "(Iteration 1611 / 4900) loss: 1.357590\n",
            "(Iteration 1621 / 4900) loss: 1.366930\n",
            "(Iteration 1631 / 4900) loss: 1.464451\n",
            "(Iteration 1641 / 4900) loss: 1.248096\n",
            "(Iteration 1651 / 4900) loss: 1.302508\n",
            "(Iteration 1661 / 4900) loss: 1.303244\n",
            "(Iteration 1671 / 4900) loss: 1.418542\n",
            "(Iteration 1681 / 4900) loss: 1.365387\n",
            "(Iteration 1691 / 4900) loss: 1.434439\n",
            "(Iteration 1701 / 4900) loss: 1.312300\n",
            "(Iteration 1711 / 4900) loss: 1.430167\n",
            "(Iteration 1721 / 4900) loss: 1.174807\n",
            "(Iteration 1731 / 4900) loss: 1.292451\n",
            "(Iteration 1741 / 4900) loss: 1.378268\n",
            "(Iteration 1751 / 4900) loss: 1.287712\n",
            "(Iteration 1761 / 4900) loss: 1.621136\n",
            "(Iteration 1771 / 4900) loss: 1.660274\n",
            "(Iteration 1781 / 4900) loss: 1.268563\n",
            "(Iteration 1791 / 4900) loss: 1.418029\n",
            "(Iteration 1801 / 4900) loss: 1.406467\n",
            "(Iteration 1811 / 4900) loss: 1.438665\n",
            "(Iteration 1821 / 4900) loss: 1.269728\n",
            "(Iteration 1831 / 4900) loss: 1.561191\n",
            "(Iteration 1841 / 4900) loss: 1.426576\n",
            "(Iteration 1851 / 4900) loss: 1.483132\n",
            "(Iteration 1861 / 4900) loss: 1.297890\n",
            "(Iteration 1871 / 4900) loss: 1.385810\n",
            "(Iteration 1881 / 4900) loss: 1.273300\n",
            "(Iteration 1891 / 4900) loss: 1.438816\n",
            "(Iteration 1901 / 4900) loss: 1.381422\n",
            "(Iteration 1911 / 4900) loss: 1.346176\n",
            "(Iteration 1921 / 4900) loss: 1.290024\n",
            "(Iteration 1931 / 4900) loss: 1.422136\n",
            "(Iteration 1941 / 4900) loss: 1.132114\n",
            "(Iteration 1951 / 4900) loss: 1.248462\n",
            "(Epoch 4 / 10) train acc: 0.518000; val_acc: 0.488000\n",
            "(Iteration 1961 / 4900) loss: 1.488200\n",
            "(Iteration 1971 / 4900) loss: 1.206234\n",
            "(Iteration 1981 / 4900) loss: 1.216262\n",
            "(Iteration 1991 / 4900) loss: 1.393406\n",
            "(Iteration 2001 / 4900) loss: 1.329977\n",
            "(Iteration 2011 / 4900) loss: 1.466961\n",
            "(Iteration 2021 / 4900) loss: 1.488153\n",
            "(Iteration 2031 / 4900) loss: 1.296357\n",
            "(Iteration 2041 / 4900) loss: 1.204523\n",
            "(Iteration 2051 / 4900) loss: 1.179839\n",
            "(Iteration 2061 / 4900) loss: 1.274966\n",
            "(Iteration 2071 / 4900) loss: 1.445845\n"
          ]
        },
        {
          "name": "stdout",
          "output_type": "stream",
          "text": [
            "(Iteration 2081 / 4900) loss: 1.254063\n",
            "(Iteration 2091 / 4900) loss: 1.382615\n",
            "(Iteration 2101 / 4900) loss: 1.425277\n",
            "(Iteration 2111 / 4900) loss: 1.357609\n",
            "(Iteration 2121 / 4900) loss: 1.458946\n",
            "(Iteration 2131 / 4900) loss: 1.556430\n",
            "(Iteration 2141 / 4900) loss: 1.409762\n",
            "(Iteration 2151 / 4900) loss: 1.544342\n",
            "(Iteration 2161 / 4900) loss: 1.533006\n",
            "(Iteration 2171 / 4900) loss: 1.164530\n",
            "(Iteration 2181 / 4900) loss: 1.423315\n",
            "(Iteration 2191 / 4900) loss: 1.687828\n",
            "(Iteration 2201 / 4900) loss: 1.277157\n",
            "(Iteration 2211 / 4900) loss: 1.334328\n",
            "(Iteration 2221 / 4900) loss: 1.377989\n",
            "(Iteration 2231 / 4900) loss: 1.716906\n",
            "(Iteration 2241 / 4900) loss: 1.299688\n",
            "(Iteration 2251 / 4900) loss: 1.533920\n",
            "(Iteration 2261 / 4900) loss: 1.304763\n",
            "(Iteration 2271 / 4900) loss: 1.453656\n",
            "(Iteration 2281 / 4900) loss: 1.305914\n",
            "(Iteration 2291 / 4900) loss: 1.307537\n",
            "(Iteration 2301 / 4900) loss: 1.304258\n",
            "(Iteration 2311 / 4900) loss: 1.030944\n",
            "(Iteration 2321 / 4900) loss: 1.348729\n",
            "(Iteration 2331 / 4900) loss: 1.527810\n",
            "(Iteration 2341 / 4900) loss: 1.476101\n",
            "(Iteration 2351 / 4900) loss: 1.164510\n",
            "(Iteration 2361 / 4900) loss: 1.417821\n",
            "(Iteration 2371 / 4900) loss: 1.226016\n",
            "(Iteration 2381 / 4900) loss: 1.243860\n",
            "(Iteration 2391 / 4900) loss: 1.319642\n",
            "(Iteration 2401 / 4900) loss: 1.436009\n",
            "(Iteration 2411 / 4900) loss: 1.429289\n",
            "(Iteration 2421 / 4900) loss: 1.546307\n",
            "(Iteration 2431 / 4900) loss: 1.425061\n",
            "(Iteration 2441 / 4900) loss: 1.184394\n",
            "(Epoch 5 / 10) train acc: 0.507000; val_acc: 0.468000\n",
            "(Iteration 2451 / 4900) loss: 1.408456\n",
            "(Iteration 2461 / 4900) loss: 1.330232\n",
            "(Iteration 2471 / 4900) loss: 1.511329\n",
            "(Iteration 2481 / 4900) loss: 1.404287\n",
            "(Iteration 2491 / 4900) loss: 1.164557\n",
            "(Iteration 2501 / 4900) loss: 1.468991\n",
            "(Iteration 2511 / 4900) loss: 1.378025\n",
            "(Iteration 2521 / 4900) loss: 1.020455\n",
            "(Iteration 2531 / 4900) loss: 1.358703\n",
            "(Iteration 2541 / 4900) loss: 1.247141\n",
            "(Iteration 2551 / 4900) loss: 1.138573\n",
            "(Iteration 2561 / 4900) loss: 1.147961\n",
            "(Iteration 2571 / 4900) loss: 1.323008\n",
            "(Iteration 2581 / 4900) loss: 1.266512\n",
            "(Iteration 2591 / 4900) loss: 1.164441\n",
            "(Iteration 2601 / 4900) loss: 1.315469\n",
            "(Iteration 2611 / 4900) loss: 1.204786\n",
            "(Iteration 2621 / 4900) loss: 1.363860\n",
            "(Iteration 2631 / 4900) loss: 1.265474\n",
            "(Iteration 2641 / 4900) loss: 1.147427\n",
            "(Iteration 2651 / 4900) loss: 1.237463\n",
            "(Iteration 2661 / 4900) loss: 1.251266\n",
            "(Iteration 2671 / 4900) loss: 1.248673\n",
            "(Iteration 2681 / 4900) loss: 1.260340\n",
            "(Iteration 2691 / 4900) loss: 1.465483\n",
            "(Iteration 2701 / 4900) loss: 1.160271\n",
            "(Iteration 2711 / 4900) loss: 1.124824\n",
            "(Iteration 2721 / 4900) loss: 1.349284\n",
            "(Iteration 2731 / 4900) loss: 1.575647\n",
            "(Iteration 2741 / 4900) loss: 1.168300\n",
            "(Iteration 2751 / 4900) loss: 1.146512\n",
            "(Iteration 2761 / 4900) loss: 1.238854\n",
            "(Iteration 2771 / 4900) loss: 1.282040\n",
            "(Iteration 2781 / 4900) loss: 1.191753\n",
            "(Iteration 2791 / 4900) loss: 1.351614\n",
            "(Iteration 2801 / 4900) loss: 1.271874\n",
            "(Iteration 2811 / 4900) loss: 1.154127\n",
            "(Iteration 2821 / 4900) loss: 1.305722\n",
            "(Iteration 2831 / 4900) loss: 1.270849\n",
            "(Iteration 2841 / 4900) loss: 1.270148\n",
            "(Iteration 2851 / 4900) loss: 1.264139\n",
            "(Iteration 2861 / 4900) loss: 1.092020\n",
            "(Iteration 2871 / 4900) loss: 1.540999\n",
            "(Iteration 2881 / 4900) loss: 1.286127\n",
            "(Iteration 2891 / 4900) loss: 1.212817\n",
            "(Iteration 2901 / 4900) loss: 1.292605\n",
            "(Iteration 2911 / 4900) loss: 1.123627\n",
            "(Iteration 2921 / 4900) loss: 1.249107\n",
            "(Iteration 2931 / 4900) loss: 1.289026\n",
            "(Epoch 6 / 10) train acc: 0.533000; val_acc: 0.505000\n",
            "(Iteration 2941 / 4900) loss: 1.231247\n",
            "(Iteration 2951 / 4900) loss: 1.305197\n",
            "(Iteration 2961 / 4900) loss: 1.503859\n",
            "(Iteration 2971 / 4900) loss: 1.440370\n",
            "(Iteration 2981 / 4900) loss: 1.352130\n",
            "(Iteration 2991 / 4900) loss: 1.190772\n",
            "(Iteration 3001 / 4900) loss: 1.355574\n",
            "(Iteration 3011 / 4900) loss: 1.244746\n",
            "(Iteration 3021 / 4900) loss: 1.321397\n",
            "(Iteration 3031 / 4900) loss: 1.145705\n",
            "(Iteration 3041 / 4900) loss: 1.328956\n",
            "(Iteration 3051 / 4900) loss: 1.097751\n",
            "(Iteration 3061 / 4900) loss: 1.274273\n",
            "(Iteration 3071 / 4900) loss: 1.300040\n",
            "(Iteration 3081 / 4900) loss: 1.306958\n",
            "(Iteration 3091 / 4900) loss: 1.509203\n",
            "(Iteration 3101 / 4900) loss: 1.456282\n",
            "(Iteration 3111 / 4900) loss: 1.409485\n",
            "(Iteration 3121 / 4900) loss: 1.081601\n",
            "(Iteration 3131 / 4900) loss: 1.211118\n",
            "(Iteration 3141 / 4900) loss: 1.326122\n",
            "(Iteration 3151 / 4900) loss: 1.373270\n",
            "(Iteration 3161 / 4900) loss: 1.210044\n",
            "(Iteration 3171 / 4900) loss: 1.763402\n",
            "(Iteration 3181 / 4900) loss: 1.178995\n",
            "(Iteration 3191 / 4900) loss: 1.094551\n",
            "(Iteration 3201 / 4900) loss: 1.403046\n",
            "(Iteration 3211 / 4900) loss: 1.247749\n",
            "(Iteration 3221 / 4900) loss: 1.219147\n",
            "(Iteration 3231 / 4900) loss: 1.336953\n",
            "(Iteration 3241 / 4900) loss: 1.158908\n",
            "(Iteration 3251 / 4900) loss: 0.924419\n",
            "(Iteration 3261 / 4900) loss: 1.213991\n",
            "(Iteration 3271 / 4900) loss: 1.498766\n",
            "(Iteration 3281 / 4900) loss: 1.473399\n",
            "(Iteration 3291 / 4900) loss: 1.174516\n",
            "(Iteration 3301 / 4900) loss: 1.393709\n",
            "(Iteration 3311 / 4900) loss: 1.149245\n",
            "(Iteration 3321 / 4900) loss: 1.426173\n",
            "(Iteration 3331 / 4900) loss: 1.109482\n",
            "(Iteration 3341 / 4900) loss: 1.133755\n",
            "(Iteration 3351 / 4900) loss: 1.380513\n",
            "(Iteration 3361 / 4900) loss: 1.356333\n",
            "(Iteration 3371 / 4900) loss: 1.338021\n",
            "(Iteration 3381 / 4900) loss: 1.219098\n",
            "(Iteration 3391 / 4900) loss: 1.171464\n",
            "(Iteration 3401 / 4900) loss: 1.502917\n",
            "(Iteration 3411 / 4900) loss: 1.435719\n",
            "(Iteration 3421 / 4900) loss: 0.989811\n",
            "(Epoch 7 / 10) train acc: 0.541000; val_acc: 0.504000\n",
            "(Iteration 3431 / 4900) loss: 1.535058\n",
            "(Iteration 3441 / 4900) loss: 1.186506\n",
            "(Iteration 3451 / 4900) loss: 1.327785\n",
            "(Iteration 3461 / 4900) loss: 1.380793\n",
            "(Iteration 3471 / 4900) loss: 1.200520\n",
            "(Iteration 3481 / 4900) loss: 1.440097\n",
            "(Iteration 3491 / 4900) loss: 1.358715\n",
            "(Iteration 3501 / 4900) loss: 1.337424\n",
            "(Iteration 3511 / 4900) loss: 1.312621\n",
            "(Iteration 3521 / 4900) loss: 1.146208\n",
            "(Iteration 3531 / 4900) loss: 1.344478\n",
            "(Iteration 3541 / 4900) loss: 1.325896\n",
            "(Iteration 3551 / 4900) loss: 1.134270\n",
            "(Iteration 3561 / 4900) loss: 1.329897\n",
            "(Iteration 3571 / 4900) loss: 0.957911\n",
            "(Iteration 3581 / 4900) loss: 1.159538\n",
            "(Iteration 3591 / 4900) loss: 1.218293\n",
            "(Iteration 3601 / 4900) loss: 1.223660\n",
            "(Iteration 3611 / 4900) loss: 1.323891\n",
            "(Iteration 3621 / 4900) loss: 1.182255\n",
            "(Iteration 3631 / 4900) loss: 1.328815\n",
            "(Iteration 3641 / 4900) loss: 1.342663\n",
            "(Iteration 3651 / 4900) loss: 1.372525\n",
            "(Iteration 3661 / 4900) loss: 1.117788\n",
            "(Iteration 3671 / 4900) loss: 1.289411\n",
            "(Iteration 3681 / 4900) loss: 1.382623\n",
            "(Iteration 3691 / 4900) loss: 1.507570\n",
            "(Iteration 3701 / 4900) loss: 1.221840\n",
            "(Iteration 3711 / 4900) loss: 1.428989\n",
            "(Iteration 3721 / 4900) loss: 1.233521\n",
            "(Iteration 3731 / 4900) loss: 1.089363\n",
            "(Iteration 3741 / 4900) loss: 1.056429\n",
            "(Iteration 3751 / 4900) loss: 1.158918\n",
            "(Iteration 3761 / 4900) loss: 1.052612\n",
            "(Iteration 3771 / 4900) loss: 1.441511\n",
            "(Iteration 3781 / 4900) loss: 1.034930\n",
            "(Iteration 3791 / 4900) loss: 1.373189\n",
            "(Iteration 3801 / 4900) loss: 1.131079\n",
            "(Iteration 3811 / 4900) loss: 1.207965\n",
            "(Iteration 3821 / 4900) loss: 0.980441\n",
            "(Iteration 3831 / 4900) loss: 1.157006\n",
            "(Iteration 3841 / 4900) loss: 1.372042\n",
            "(Iteration 3851 / 4900) loss: 1.232382\n",
            "(Iteration 3861 / 4900) loss: 1.267261\n",
            "(Iteration 3871 / 4900) loss: 1.263559\n",
            "(Iteration 3881 / 4900) loss: 1.125181\n",
            "(Iteration 3891 / 4900) loss: 1.227075\n",
            "(Iteration 3901 / 4900) loss: 1.257938\n",
            "(Iteration 3911 / 4900) loss: 1.174945\n",
            "(Epoch 8 / 10) train acc: 0.552000; val_acc: 0.491000\n",
            "(Iteration 3921 / 4900) loss: 1.176553\n",
            "(Iteration 3931 / 4900) loss: 1.276572\n",
            "(Iteration 3941 / 4900) loss: 1.098559\n",
            "(Iteration 3951 / 4900) loss: 1.336299\n",
            "(Iteration 3961 / 4900) loss: 1.143389\n",
            "(Iteration 3971 / 4900) loss: 1.463480\n",
            "(Iteration 3981 / 4900) loss: 1.214440\n",
            "(Iteration 3991 / 4900) loss: 1.566947\n",
            "(Iteration 4001 / 4900) loss: 1.263887\n",
            "(Iteration 4011 / 4900) loss: 1.429139\n",
            "(Iteration 4021 / 4900) loss: 1.394611\n",
            "(Iteration 4031 / 4900) loss: 1.213610\n",
            "(Iteration 4041 / 4900) loss: 1.164401\n",
            "(Iteration 4051 / 4900) loss: 1.281760\n",
            "(Iteration 4061 / 4900) loss: 1.290094\n",
            "(Iteration 4071 / 4900) loss: 0.976122\n",
            "(Iteration 4081 / 4900) loss: 1.444818\n",
            "(Iteration 4091 / 4900) loss: 1.355808\n",
            "(Iteration 4101 / 4900) loss: 1.528054\n",
            "(Iteration 4111 / 4900) loss: 1.237279\n",
            "(Iteration 4121 / 4900) loss: 1.655397\n",
            "(Iteration 4131 / 4900) loss: 1.279284\n",
            "(Iteration 4141 / 4900) loss: 1.576452\n",
            "(Iteration 4151 / 4900) loss: 1.135667\n"
          ]
        },
        {
          "name": "stdout",
          "output_type": "stream",
          "text": [
            "(Iteration 4161 / 4900) loss: 1.115728\n",
            "(Iteration 4171 / 4900) loss: 1.168133\n",
            "(Iteration 4181 / 4900) loss: 1.500695\n",
            "(Iteration 4191 / 4900) loss: 1.096998\n",
            "(Iteration 4201 / 4900) loss: 1.342433\n",
            "(Iteration 4211 / 4900) loss: 1.291486\n",
            "(Iteration 4221 / 4900) loss: 1.183129\n",
            "(Iteration 4231 / 4900) loss: 1.133089\n",
            "(Iteration 4241 / 4900) loss: 1.180310\n",
            "(Iteration 4251 / 4900) loss: 1.358058\n",
            "(Iteration 4261 / 4900) loss: 1.072809\n",
            "(Iteration 4271 / 4900) loss: 1.192425\n",
            "(Iteration 4281 / 4900) loss: 1.519956\n",
            "(Iteration 4291 / 4900) loss: 1.155352\n",
            "(Iteration 4301 / 4900) loss: 1.063927\n",
            "(Iteration 4311 / 4900) loss: 1.143543\n",
            "(Iteration 4321 / 4900) loss: 1.258275\n",
            "(Iteration 4331 / 4900) loss: 1.115814\n",
            "(Iteration 4341 / 4900) loss: 1.117280\n",
            "(Iteration 4351 / 4900) loss: 1.226422\n",
            "(Iteration 4361 / 4900) loss: 1.310496\n",
            "(Iteration 4371 / 4900) loss: 1.061019\n",
            "(Iteration 4381 / 4900) loss: 1.165791\n",
            "(Iteration 4391 / 4900) loss: 1.233291\n",
            "(Iteration 4401 / 4900) loss: 1.351398\n",
            "(Epoch 9 / 10) train acc: 0.550000; val_acc: 0.493000\n",
            "(Iteration 4411 / 4900) loss: 1.263450\n",
            "(Iteration 4421 / 4900) loss: 1.020435\n",
            "(Iteration 4431 / 4900) loss: 1.144307\n",
            "(Iteration 4441 / 4900) loss: 1.112442\n",
            "(Iteration 4451 / 4900) loss: 1.192322\n",
            "(Iteration 4461 / 4900) loss: 1.160763\n",
            "(Iteration 4471 / 4900) loss: 1.393806\n",
            "(Iteration 4481 / 4900) loss: 0.944011\n",
            "(Iteration 4491 / 4900) loss: 1.106497\n",
            "(Iteration 4501 / 4900) loss: 0.971352\n",
            "(Iteration 4511 / 4900) loss: 1.115983\n",
            "(Iteration 4521 / 4900) loss: 1.250686\n",
            "(Iteration 4531 / 4900) loss: 1.154294\n",
            "(Iteration 4541 / 4900) loss: 1.227414\n",
            "(Iteration 4551 / 4900) loss: 1.130883\n",
            "(Iteration 4561 / 4900) loss: 1.043215\n",
            "(Iteration 4571 / 4900) loss: 1.225017\n",
            "(Iteration 4581 / 4900) loss: 1.077988\n",
            "(Iteration 4591 / 4900) loss: 1.324153\n",
            "(Iteration 4601 / 4900) loss: 1.490974\n",
            "(Iteration 4611 / 4900) loss: 1.307169\n",
            "(Iteration 4621 / 4900) loss: 1.025476\n",
            "(Iteration 4631 / 4900) loss: 1.240466\n",
            "(Iteration 4641 / 4900) loss: 1.212575\n",
            "(Iteration 4651 / 4900) loss: 1.319671\n",
            "(Iteration 4661 / 4900) loss: 1.121676\n",
            "(Iteration 4671 / 4900) loss: 1.192146\n",
            "(Iteration 4681 / 4900) loss: 1.216914\n",
            "(Iteration 4691 / 4900) loss: 1.065608\n",
            "(Iteration 4701 / 4900) loss: 1.056466\n",
            "(Iteration 4711 / 4900) loss: 0.997057\n",
            "(Iteration 4721 / 4900) loss: 1.413904\n",
            "(Iteration 4731 / 4900) loss: 1.104649\n",
            "(Iteration 4741 / 4900) loss: 1.233721\n",
            "(Iteration 4751 / 4900) loss: 0.998040\n",
            "(Iteration 4761 / 4900) loss: 1.382885\n",
            "(Iteration 4771 / 4900) loss: 1.209479\n",
            "(Iteration 4781 / 4900) loss: 1.450412\n",
            "(Iteration 4791 / 4900) loss: 1.165108\n",
            "(Iteration 4801 / 4900) loss: 1.035754\n",
            "(Iteration 4811 / 4900) loss: 1.219323\n",
            "(Iteration 4821 / 4900) loss: 1.233136\n",
            "(Iteration 4831 / 4900) loss: 1.252312\n",
            "(Iteration 4841 / 4900) loss: 1.386555\n",
            "(Iteration 4851 / 4900) loss: 1.207884\n",
            "(Iteration 4861 / 4900) loss: 1.298591\n",
            "(Iteration 4871 / 4900) loss: 1.327423\n",
            "(Iteration 4881 / 4900) loss: 1.537574\n",
            "(Iteration 4891 / 4900) loss: 1.425693\n",
            "(Epoch 10 / 10) train acc: 0.593000; val_acc: 0.496000\n"
          ]
        }
      ],
      "source": [
        "model = TwoLayerNet()\n",
        "solver = None\n",
        "\n",
        "\n",
        "\n",
        "##############################################################################\n",
        "# TODO: Use a Solver instance to train a TwoLayerNet that achieves at least  #\n",
        "# 50% accuracy on the validation set.                                        #\n",
        "##############################################################################\n",
        "# *****START OF YOUR CODE (DO NOT DELETE/MODIFY THIS LINE)*****\n",
        "\n",
        "solver = Solver(model, data,\n",
        "                optim_config={'learning_rate': 0.001},\n",
        "                verbose=True) \n",
        "solver.train()\n",
        "\n",
        "\n",
        "# *****END OF YOUR CODE (DO NOT DELETE/MODIFY THIS LINE)*****\n",
        "##############################################################################\n",
        "#                             END OF YOUR CODE                               #\n",
        "##############################################################################"
      ]
    },
    {
      "cell_type": "code",
      "execution_count": null,
      "id": "2f865176",
      "metadata": {
        "id": "2f865176",
        "outputId": "20f33b7d-b7cb-41fd-b8f0-e280bcd29486"
      },
      "outputs": [
        {
          "data": {
            "image/png": "[encoded data removed]",
            "text/plain": [
              "<Figure size 1080x864 with 2 Axes>"
            ]
          },
          "metadata": {
            "needs_background": "light"
          },
          "output_type": "display_data"
        }
      ],
      "source": [
        "plt.subplot(2, 1, 1)\n",
        "plt.title('Training loss')\n",
        "plt.plot(solver.loss_history, 'o')\n",
        "plt.xlabel('Iteration')\n",
        "\n",
        "plt.subplot(2, 1, 2)\n",
        "plt.title('Accuracy')\n",
        "plt.plot(solver.train_acc_history, '-o', label='train')\n",
        "plt.plot(solver.val_acc_history, '-o', label='val')\n",
        "plt.plot([0.5] * len(solver.val_acc_history), 'k--')\n",
        "plt.xlabel('Epoch')\n",
        "plt.legend(loc='lower right')\n",
        "plt.gcf().set_size_inches(15, 12)\n",
        "plt.show()"
      ]
    },
    {
      "cell_type": "markdown",
      "id": "6a4119e5",
      "metadata": {
        "id": "6a4119e5"
      },
      "source": [
        "Теперь реализуйте полносвязную сеть с произвольным числом скрытых слоев. Ознакомьтесь с классом FullyConnectedNet в scripts/classifiers/fc_net.py . Реализуйте инициализацию, прямой и обратный проходы."
      ]
    },
    {
      "cell_type": "code",
      "execution_count": null,
      "id": "d03ad89a",
      "metadata": {
        "id": "d03ad89a",
        "outputId": "3995796f-d284-41d6-f41e-41e0aa666b60"
      },
      "outputs": [
        {
          "name": "stdout",
          "output_type": "stream",
          "text": [
            "Running check with reg =  0\n",
            "Initial loss:  2.3004790897684924\n",
            "W1 relative error: 7.70e-08\n",
            "W2 relative error: 1.71e-05\n",
            "W3 relative error: 2.95e-07\n",
            "b1 relative error: 4.66e-09\n",
            "b2 relative error: 2.09e-09\n",
            "b3 relative error: 6.60e-11\n",
            "Running check with reg =  3.14\n",
            "Initial loss:  7.052114776533016\n",
            "W1 relative error: 3.90e-09\n",
            "W2 relative error: 6.87e-08\n",
            "W3 relative error: 2.13e-08\n",
            "b1 relative error: 1.17e-08\n",
            "b2 relative error: 1.72e-09\n",
            "b3 relative error: 1.32e-10\n"
          ]
        }
      ],
      "source": [
        "np.random.seed(231)\n",
        "N, D, H1, H2, C = 2, 15, 20, 30, 10\n",
        "X = np.random.randn(N, D)\n",
        "y = np.random.randint(C, size=(N,))\n",
        "\n",
        "for reg in [0, 3.14]:\n",
        "    print('Running check with reg = ', reg)\n",
        "    model = FullyConnectedNet([H1, H2], input_dim=D, num_classes=C,\n",
        "                            reg=reg, weight_scale=5e-2, dtype=np.float64)\n",
        "\n",
        "    loss, grads = model.loss(X, y)\n",
        "    print('Initial loss: ', loss)\n",
        "  \n",
        "  # Most of the errors should be on the order of e-7 or smaller.   \n",
        "  # NOTE: It is fine however to see an error for W2 on the order of e-5\n",
        "  # for the check when reg = 0.0\n",
        "    for name in sorted(grads):\n",
        "        f = lambda _: model.loss(X, y)[0]\n",
        "        grad_num = eval_numerical_gradient(f, model.params[name], verbose=False, h=1e-5)\n",
        "        print('%s relative error: %.2e' % (name, rel_error(grad_num, grads[name])))"
      ]
    },
    {
      "cell_type": "markdown",
      "id": "cbdf46a0",
      "metadata": {
        "id": "cbdf46a0"
      },
      "source": [
        "Попробуйте добиться эффекта переобучения на небольшом наборе изображений (например, 50). Используйте трехслойную сеть со 100 нейронами на каждом скрытом слое. Попробуйте переобучить сеть, достигнув 100 % accuracy за 20 эпох. Для этого поэкспериментируйте с параметрами weight_scale и learning_rate."
      ]
    },
    {
      "cell_type": "code",
      "execution_count": null,
      "id": "04faa0bf",
      "metadata": {
        "id": "04faa0bf",
        "outputId": "2e4327b3-5005-40ea-f8a5-7cc3a0c7c1af"
      },
      "outputs": [
        {
          "name": "stdout",
          "output_type": "stream",
          "text": [
            "(Iteration 1 / 40) loss: 3.604568\n",
            "(Epoch 0 / 20) train acc: 0.140000; val_acc: 0.116000\n",
            "(Epoch 1 / 20) train acc: 0.300000; val_acc: 0.137000\n",
            "(Epoch 2 / 20) train acc: 0.540000; val_acc: 0.150000\n",
            "(Epoch 3 / 20) train acc: 0.640000; val_acc: 0.162000\n",
            "(Epoch 4 / 20) train acc: 0.760000; val_acc: 0.168000\n",
            "(Epoch 5 / 20) train acc: 0.840000; val_acc: 0.175000\n",
            "(Iteration 11 / 40) loss: 0.622784\n",
            "(Epoch 6 / 20) train acc: 0.880000; val_acc: 0.188000\n",
            "(Epoch 7 / 20) train acc: 0.900000; val_acc: 0.184000\n",
            "(Epoch 8 / 20) train acc: 0.920000; val_acc: 0.190000\n",
            "(Epoch 9 / 20) train acc: 0.980000; val_acc: 0.187000\n",
            "(Epoch 10 / 20) train acc: 0.960000; val_acc: 0.179000\n",
            "(Iteration 21 / 40) loss: 0.404246\n",
            "(Epoch 11 / 20) train acc: 0.980000; val_acc: 0.204000\n",
            "(Epoch 12 / 20) train acc: 1.000000; val_acc: 0.183000\n",
            "(Epoch 13 / 20) train acc: 1.000000; val_acc: 0.189000\n",
            "(Epoch 14 / 20) train acc: 1.000000; val_acc: 0.188000\n",
            "(Epoch 15 / 20) train acc: 1.000000; val_acc: 0.190000\n",
            "(Iteration 31 / 40) loss: 0.203004\n",
            "(Epoch 16 / 20) train acc: 1.000000; val_acc: 0.203000\n",
            "(Epoch 17 / 20) train acc: 1.000000; val_acc: 0.198000\n",
            "(Epoch 18 / 20) train acc: 1.000000; val_acc: 0.203000\n",
            "(Epoch 19 / 20) train acc: 1.000000; val_acc: 0.190000\n",
            "(Epoch 20 / 20) train acc: 1.000000; val_acc: 0.191000\n"
          ]
        },
        {
          "data": {
            "image/png": "[encoded data removed]",
            "text/plain": [
              "<Figure size 720x576 with 1 Axes>"
            ]
          },
          "metadata": {
            "needs_background": "light"
          },
          "output_type": "display_data"
        }
      ],
      "source": [
        "# TODO: Use a three-layer Net to overfit 50 training examples by \n",
        "# tweaking just the learning rate and initialization scale.\n",
        "\n",
        "num_train = 50\n",
        "small_data = {\n",
        "  \"X_train\": data[\"X_train\"][:num_train],\n",
        "  \"y_train\": data[\"y_train\"][:num_train],\n",
        "  \"X_val\": data[\"X_val\"],\n",
        "  \"y_val\": data[\"y_val\"],\n",
        "}\n",
        "\n",
        "weight_scale = 2e-2   \n",
        "learning_rate = 2e-3  \n",
        "model = FullyConnectedNet(\n",
        "    [100, 100],\n",
        "    weight_scale=weight_scale,\n",
        "    dtype=np.float64\n",
        ")\n",
        "solver = Solver(\n",
        "    model,\n",
        "    small_data,\n",
        "    print_every=10,\n",
        "    num_epochs=20,\n",
        "    batch_size=25,\n",
        "    update_rule=\"sgd\",\n",
        "    optim_config={\"learning_rate\": learning_rate},\n",
        ")\n",
        "solver.train()\n",
        "\n",
        "plt.plot(solver.loss_history)\n",
        "plt.title(\"Training loss history\")\n",
        "plt.xlabel(\"Iteration\")\n",
        "plt.ylabel(\"Training loss\")\n",
        "plt.grid(linestyle='--', linewidth=0.5)\n",
        "plt.show()"
      ]
    },
    {
      "cell_type": "markdown",
      "id": "41b04265",
      "metadata": {
        "id": "41b04265"
      },
      "source": [
        "Повторите эксперимент, описанный выше, для пятислойной сети."
      ]
    },
    {
      "cell_type": "code",
      "execution_count": null,
      "id": "487ff623",
      "metadata": {
        "id": "487ff623",
        "outputId": "aede44da-8b75-4b16-9ad1-19cec08fcd6e"
      },
      "outputs": [
        {
          "name": "stdout",
          "output_type": "stream",
          "text": [
            "(Iteration 1 / 40) loss: 22.826347\n",
            "(Epoch 0 / 20) train acc: 0.100000; val_acc: 0.120000\n",
            "(Epoch 1 / 20) train acc: 0.160000; val_acc: 0.113000\n",
            "(Epoch 2 / 20) train acc: 0.380000; val_acc: 0.133000\n",
            "(Epoch 3 / 20) train acc: 0.420000; val_acc: 0.111000\n",
            "(Epoch 4 / 20) train acc: 0.860000; val_acc: 0.133000\n",
            "(Epoch 5 / 20) train acc: 0.920000; val_acc: 0.133000\n",
            "(Iteration 11 / 40) loss: 0.291177\n",
            "(Epoch 6 / 20) train acc: 0.960000; val_acc: 0.143000\n",
            "(Epoch 7 / 20) train acc: 0.980000; val_acc: 0.132000\n",
            "(Epoch 8 / 20) train acc: 1.000000; val_acc: 0.135000\n",
            "(Epoch 9 / 20) train acc: 1.000000; val_acc: 0.133000\n",
            "(Epoch 10 / 20) train acc: 1.000000; val_acc: 0.134000\n",
            "(Iteration 21 / 40) loss: 0.005216\n",
            "(Epoch 11 / 20) train acc: 1.000000; val_acc: 0.134000\n",
            "(Epoch 12 / 20) train acc: 1.000000; val_acc: 0.139000\n",
            "(Epoch 13 / 20) train acc: 1.000000; val_acc: 0.140000\n",
            "(Epoch 14 / 20) train acc: 1.000000; val_acc: 0.141000\n",
            "(Epoch 15 / 20) train acc: 1.000000; val_acc: 0.139000\n",
            "(Iteration 31 / 40) loss: 0.006042\n",
            "(Epoch 16 / 20) train acc: 1.000000; val_acc: 0.138000\n",
            "(Epoch 17 / 20) train acc: 1.000000; val_acc: 0.139000\n",
            "(Epoch 18 / 20) train acc: 1.000000; val_acc: 0.139000\n",
            "(Epoch 19 / 20) train acc: 1.000000; val_acc: 0.140000\n",
            "(Epoch 20 / 20) train acc: 1.000000; val_acc: 0.140000\n"
          ]
        },
        {
          "data": {
            "image/png": "[encoded data removed]",
            "text/plain": [
              "<Figure size 720x576 with 1 Axes>"
            ]
          },
          "metadata": {
            "needs_background": "light"
          },
          "output_type": "display_data"
        }
      ],
      "source": [
        "# TODO: Use a five-layer Net to overfit 50 training examples by \n",
        "# tweaking just the learning rate and initialization scale.\n",
        "\n",
        "num_train = 50\n",
        "small_data = {\n",
        "  'X_train': data['X_train'][:num_train],\n",
        "  'y_train': data['y_train'][:num_train],\n",
        "  'X_val': data['X_val'],\n",
        "  'y_val': data['y_val'],\n",
        "}\n",
        "\n",
        "\n",
        "weight_scale = 6e-2   \n",
        "learning_rate = 2e-3  \n",
        "\n",
        "model = FullyConnectedNet(\n",
        "    [100, 100, 100],\n",
        "    weight_scale=weight_scale,\n",
        "    dtype=np.float64\n",
        ")\n",
        "solver = Solver(\n",
        "    model,\n",
        "    small_data,\n",
        "    print_every=10,\n",
        "    num_epochs=20,\n",
        "    batch_size=25,\n",
        "    update_rule='sgd',\n",
        "    optim_config={'learning_rate': learning_rate},\n",
        ")\n",
        "solver.train()\n",
        "\n",
        "plt.plot(solver.loss_history)\n",
        "plt.title('Training loss history')\n",
        "plt.xlabel('Iteration')\n",
        "plt.ylabel('Training loss')\n",
        "plt.grid(linestyle='--', linewidth=0.5)\n",
        "plt.show()"
      ]
    },
    {
      "cell_type": "markdown",
      "id": "c7c7fbbf",
      "metadata": {
        "id": "c7c7fbbf"
      },
      "source": [
        "Сделайте выводы по проведенному эксперименту.\n",
        "\n",
        "Ранее обновление весов проходило по правилу SGD. Теперь попробуйте реализовать стохастический градиентный спуск с импульсом (SGD+momentum). http://cs231n.github.io/neural-networks-3/#sgd Реализуйте sgd_momentum в scripts/optim.py и запустите проверку."
      ]
    },
    {
      "cell_type": "code",
      "execution_count": null,
      "id": "8b0dac52",
      "metadata": {
        "id": "8b0dac52"
      },
      "outputs": [],
      "source": [
        "from scripts.optim import sgd_momentum"
      ]
    },
    {
      "cell_type": "code",
      "execution_count": null,
      "id": "4fb262a5",
      "metadata": {
        "id": "4fb262a5",
        "outputId": "c49d6796-0e69-4867-92d1-3c4626d5f272"
      },
      "outputs": [
        {
          "name": "stdout",
          "output_type": "stream",
          "text": [
            "[[0.1406     0.20738947 0.27417895 0.34096842 0.40775789]\n",
            " [0.47454737 0.54133684 0.60812632 0.67491579 0.74170526]\n",
            " [0.80849474 0.87528421 0.94207368 1.00886316 1.07565263]\n",
            " [1.14244211 1.20923158 1.27602105 1.34281053 1.4096    ]]\n",
            "[[0.5406     0.55475789 0.56891579 0.58307368 0.59723158]\n",
            " [0.61138947 0.62554737 0.63970526 0.65386316 0.66802105]\n",
            " [0.68217895 0.69633684 0.71049474 0.72465263 0.73881053]\n",
            " [0.75296842 0.76712632 0.78128421 0.79544211 0.8096    ]]\n",
            "next_w error:  8.882347033505819e-09\n",
            "velocity error:  4.269287743278663e-09\n"
          ]
        }
      ],
      "source": [
        "N, D = 4, 5\n",
        "w = np.linspace(-0.4, 0.6, num=N*D).reshape(N, D)\n",
        "dw = np.linspace(-0.6, 0.4, num=N*D).reshape(N, D)\n",
        "v = np.linspace(0.6, 0.9, num=N*D).reshape(N, D)\n",
        "\n",
        "config = {\"learning_rate\": 1e-3, \"velocity\": v}\n",
        "next_w, _ = sgd_momentum(w, dw, config=config)\n",
        "print(next_w)\n",
        "print(config[\"velocity\"])\n",
        "\n",
        "expected_next_w = np.asarray([\n",
        "  [ 0.1406,      0.20738947,  0.27417895,  0.34096842,  0.40775789],\n",
        "  [ 0.47454737,  0.54133684,  0.60812632,  0.67491579,  0.74170526],\n",
        "  [ 0.80849474,  0.87528421,  0.94207368,  1.00886316,  1.07565263],\n",
        "  [ 1.14244211,  1.20923158,  1.27602105,  1.34281053,  1.4096    ]])\n",
        "expected_velocity = np.asarray([\n",
        "  [ 0.5406,      0.55475789,  0.56891579, 0.58307368,  0.59723158],\n",
        "  [ 0.61138947,  0.62554737,  0.63970526,  0.65386316,  0.66802105],\n",
        "  [ 0.68217895,  0.69633684,  0.71049474,  0.72465263,  0.73881053],\n",
        "  [ 0.75296842,  0.76712632,  0.78128421,  0.79544211,  0.8096    ]])\n",
        "\n",
        "# Should see relative errors around e-8 or less\n",
        "print('next_w error: ', rel_error(next_w, expected_next_w))\n",
        "print('velocity error: ', rel_error(expected_velocity, config['velocity']))"
      ]
    },
    {
      "cell_type": "markdown",
      "id": "feb943d8",
      "metadata": {
        "id": "feb943d8"
      },
      "source": [
        "Сравните результаты обучения шестислойной сети, обученной классическим градиентным спуском и адаптивным алгоритмом с импульсом. Какой алгоритм сходится быстрее."
      ]
    },
    {
      "cell_type": "code",
      "execution_count": null,
      "id": "36e5b431",
      "metadata": {
        "id": "36e5b431",
        "outputId": "9de416db-0966-4f64-eab6-10d9b6f0353f"
      },
      "outputs": [
        {
          "name": "stdout",
          "output_type": "stream",
          "text": [
            "Running with  sgd\n",
            "(Iteration 1 / 200) loss: 2.821214\n",
            "(Epoch 0 / 5) train acc: 0.107000; val_acc: 0.089000\n",
            "(Iteration 11 / 200) loss: 2.288227\n",
            "(Iteration 21 / 200) loss: 2.259860\n",
            "(Iteration 31 / 200) loss: 2.201119\n",
            "(Epoch 1 / 5) train acc: 0.228000; val_acc: 0.214000\n",
            "(Iteration 41 / 200) loss: 2.155452\n",
            "(Iteration 51 / 200) loss: 2.077550\n",
            "(Iteration 61 / 200) loss: 2.145717\n",
            "(Iteration 71 / 200) loss: 2.004616\n",
            "(Epoch 2 / 5) train acc: 0.280000; val_acc: 0.246000\n",
            "(Iteration 81 / 200) loss: 1.944865\n",
            "(Iteration 91 / 200) loss: 2.120448\n",
            "(Iteration 101 / 200) loss: 1.896456\n",
            "(Iteration 111 / 200) loss: 1.880823\n",
            "(Epoch 3 / 5) train acc: 0.313000; val_acc: 0.285000\n",
            "(Iteration 121 / 200) loss: 1.887510\n",
            "(Iteration 131 / 200) loss: 1.886811\n",
            "(Iteration 141 / 200) loss: 1.915736\n",
            "(Iteration 151 / 200) loss: 1.816287\n",
            "(Epoch 4 / 5) train acc: 0.345000; val_acc: 0.279000\n",
            "(Iteration 161 / 200) loss: 1.904172\n",
            "(Iteration 171 / 200) loss: 1.732984\n",
            "(Iteration 181 / 200) loss: 1.715170\n",
            "(Iteration 191 / 200) loss: 1.688256\n",
            "(Epoch 5 / 5) train acc: 0.367000; val_acc: 0.258000\n",
            "Running with  sgd_momentum\n",
            "(Iteration 1 / 200) loss: 2.722253\n",
            "(Epoch 0 / 5) train acc: 0.082000; val_acc: 0.096000\n",
            "(Iteration 11 / 200) loss: 2.215128\n",
            "(Iteration 21 / 200) loss: 2.028601\n",
            "(Iteration 31 / 200) loss: 1.871854\n",
            "(Epoch 1 / 5) train acc: 0.335000; val_acc: 0.299000\n",
            "(Iteration 41 / 200) loss: 1.676675\n",
            "(Iteration 51 / 200) loss: 1.741467\n",
            "(Iteration 61 / 200) loss: 1.799817\n",
            "(Iteration 71 / 200) loss: 1.693610\n",
            "(Epoch 2 / 5) train acc: 0.428000; val_acc: 0.351000\n",
            "(Iteration 81 / 200) loss: 1.529880\n",
            "(Iteration 91 / 200) loss: 1.570398\n",
            "(Iteration 101 / 200) loss: 1.684804\n",
            "(Iteration 111 / 200) loss: 1.706500\n",
            "(Epoch 3 / 5) train acc: 0.453000; val_acc: 0.352000\n",
            "(Iteration 121 / 200) loss: 1.686399\n",
            "(Iteration 131 / 200) loss: 1.368131\n",
            "(Iteration 141 / 200) loss: 1.537483\n",
            "(Iteration 151 / 200) loss: 1.499866\n",
            "(Epoch 4 / 5) train acc: 0.483000; val_acc: 0.378000\n",
            "(Iteration 161 / 200) loss: 1.288337\n",
            "(Iteration 171 / 200) loss: 1.496494\n",
            "(Iteration 181 / 200) loss: 1.185468\n",
            "(Iteration 191 / 200) loss: 1.538511\n",
            "(Epoch 5 / 5) train acc: 0.517000; val_acc: 0.373000\n"
          ]
        },
        {
          "data": {
            "image/png": "[encoded data removed]",
            "text/plain": [
              "<Figure size 1080x1080 with 3 Axes>"
            ]
          },
          "metadata": {
            "needs_background": "light"
          },
          "output_type": "display_data"
        }
      ],
      "source": [
        "num_train = 4000\n",
        "small_data = {\n",
        "  'X_train': data['X_train'][:num_train],\n",
        "  'y_train': data['y_train'][:num_train],\n",
        "  'X_val': data['X_val'],\n",
        "  'y_val': data['y_val'],\n",
        "}\n",
        "\n",
        "solvers = {}\n",
        "\n",
        "for update_rule in ['sgd', 'sgd_momentum']:\n",
        "    print('Running with ', update_rule)\n",
        "    model = FullyConnectedNet(\n",
        "        [100, 100, 100, 100, 100],\n",
        "        weight_scale=5e-2\n",
        "    )\n",
        "\n",
        "    solver = Solver(\n",
        "        model,\n",
        "        small_data,\n",
        "        num_epochs=5,\n",
        "        batch_size=100,\n",
        "        update_rule=update_rule,\n",
        "        optim_config={'learning_rate': 5e-3},\n",
        "        verbose=True,\n",
        "    )\n",
        "    solvers[update_rule] = solver\n",
        "    solver.train()\n",
        "\n",
        "fig, axes = plt.subplots(3, 1, figsize=(15, 15))\n",
        "\n",
        "axes[0].set_title('Training loss')\n",
        "axes[0].set_xlabel('Iteration')\n",
        "axes[1].set_title('Training accuracy')\n",
        "axes[1].set_xlabel('Epoch')\n",
        "axes[2].set_title('Validation accuracy')\n",
        "axes[2].set_xlabel('Epoch')\n",
        "\n",
        "for update_rule, solver in solvers.items():\n",
        "    axes[0].plot(solver.loss_history, label=f\"loss_{update_rule}\")\n",
        "    axes[1].plot(solver.train_acc_history, label=f\"train_acc_{update_rule}\")\n",
        "    axes[2].plot(solver.val_acc_history, label=f\"val_acc_{update_rule}\")\n",
        "    \n",
        "for ax in axes:\n",
        "    ax.legend(loc=\"best\", ncol=4)\n",
        "    ax.grid(linestyle='--', linewidth=0.5)\n",
        "\n",
        "plt.show()"
      ]
    },
    {
      "cell_type": "markdown",
      "id": "339dc2d0",
      "metadata": {
        "id": "339dc2d0"
      },
      "source": [
        "Реализуйте алгоритмы RMSProp [1] and Adam [2] с коррекцией смещения - методы rmsprop и adam .\n",
        "\n",
        "[1] Tijmen Tieleman and Geoffrey Hinton. \"Lecture 6.5-rmsprop: Divide the gradient by a running average of its recent magnitude.\" COURSERA: Neural Networks for Machine Learning 4 (2012).\n",
        "\n",
        "[2] Diederik Kingma and Jimmy Ba, \"Adam: A Method for Stochastic Optimization\", ICLR 2015."
      ]
    },
    {
      "cell_type": "code",
      "execution_count": null,
      "id": "e698265c",
      "metadata": {
        "id": "e698265c"
      },
      "outputs": [],
      "source": [
        "from scripts.optim import rmsprop"
      ]
    },
    {
      "cell_type": "code",
      "execution_count": null,
      "id": "5c2b79a1",
      "metadata": {
        "id": "5c2b79a1",
        "outputId": "5c9c122a-305e-49b8-aef9-05b2eda4fca3"
      },
      "outputs": [
        {
          "name": "stdout",
          "output_type": "stream",
          "text": [
            "next_w error:  9.524687511038133e-08\n",
            "cache error:  2.6477955807156126e-09\n"
          ]
        }
      ],
      "source": [
        "N, D = 4, 5\n",
        "w = np.linspace(-0.4, 0.6, num=N*D).reshape(N, D)\n",
        "dw = np.linspace(-0.6, 0.4, num=N*D).reshape(N, D)\n",
        "cache = np.linspace(0.6, 0.9, num=N*D).reshape(N, D)\n",
        "\n",
        "config = {'learning_rate': 1e-2, 'cache': cache}\n",
        "next_w, _ = rmsprop(w, dw, config=config)\n",
        "\n",
        "expected_next_w = np.asarray([\n",
        "  [-0.39223849, -0.34037513, -0.28849239, -0.23659121, -0.18467247],\n",
        "  [-0.132737,   -0.08078555, -0.02881884,  0.02316247,  0.07515774],\n",
        "  [ 0.12716641,  0.17918792,  0.23122175,  0.28326742,  0.33532447],\n",
        "  [ 0.38739248,  0.43947102,  0.49155973,  0.54365823,  0.59576619]])\n",
        "expected_cache = np.asarray([\n",
        "  [ 0.5976,      0.6126277,   0.6277108,   0.64284931,  0.65804321],\n",
        "  [ 0.67329252,  0.68859723,  0.70395734,  0.71937285,  0.73484377],\n",
        "  [ 0.75037008,  0.7659518,   0.78158892,  0.79728144,  0.81302936],\n",
        "  [ 0.82883269,  0.84469141,  0.86060554,  0.87657507,  0.8926    ]])\n",
        "\n",
        "# You should see relative errors around e-7 or less\n",
        "print('next_w error: ', rel_error(expected_next_w, next_w))\n",
        "print('cache error: ', rel_error(expected_cache, config['cache']))"
      ]
    },
    {
      "cell_type": "code",
      "execution_count": null,
      "id": "e056e613",
      "metadata": {
        "id": "e056e613"
      },
      "outputs": [],
      "source": [
        "from scripts.optim import adam"
      ]
    },
    {
      "cell_type": "code",
      "execution_count": null,
      "id": "212930ca",
      "metadata": {
        "id": "212930ca",
        "outputId": "4a88764e-0132-440e-81a5-aede800d59c7"
      },
      "outputs": [
        {
          "name": "stdout",
          "output_type": "stream",
          "text": [
            "next_w error:  1.1395691798535431e-07\n",
            "v error:  4.208314038113071e-09\n",
            "m error:  4.214963193114416e-09\n"
          ]
        }
      ],
      "source": [
        "N, D = 4, 5\n",
        "w = np.linspace(-0.4, 0.6, num=N*D).reshape(N, D)\n",
        "dw = np.linspace(-0.6, 0.4, num=N*D).reshape(N, D)\n",
        "m = np.linspace(0.6, 0.9, num=N*D).reshape(N, D)\n",
        "v = np.linspace(0.7, 0.5, num=N*D).reshape(N, D)\n",
        "\n",
        "config = {'learning_rate': 1e-2, 'm': m, 'v': v, 't': 5}\n",
        "next_w, _ = adam(w, dw, config=config)\n",
        "\n",
        "expected_next_w = np.asarray([\n",
        "  [-0.40094747, -0.34836187, -0.29577703, -0.24319299, -0.19060977],\n",
        "  [-0.1380274,  -0.08544591, -0.03286534,  0.01971428,  0.0722929],\n",
        "  [ 0.1248705,   0.17744702,  0.23002243,  0.28259667,  0.33516969],\n",
        "  [ 0.38774145,  0.44031188,  0.49288093,  0.54544852,  0.59801459]])\n",
        "expected_v = np.asarray([\n",
        "  [ 0.69966,     0.68908382,  0.67851319,  0.66794809,  0.65738853,],\n",
        "  [ 0.64683452,  0.63628604,  0.6257431,   0.61520571,  0.60467385,],\n",
        "  [ 0.59414753,  0.58362676,  0.57311152,  0.56260183,  0.55209767,],\n",
        "  [ 0.54159906,  0.53110598,  0.52061845,  0.51013645,  0.49966,   ]])\n",
        "expected_m = np.asarray([\n",
        "  [ 0.48,        0.49947368,  0.51894737,  0.53842105,  0.55789474],\n",
        "  [ 0.57736842,  0.59684211,  0.61631579,  0.63578947,  0.65526316],\n",
        "  [ 0.67473684,  0.69421053,  0.71368421,  0.73315789,  0.75263158],\n",
        "  [ 0.77210526,  0.79157895,  0.81105263,  0.83052632,  0.85      ]])\n",
        "\n",
        "# You should see relative errors around e-7 or less\n",
        "print('next_w error: ', rel_error(expected_next_w, next_w))\n",
        "print('v error: ', rel_error(expected_v, config['v']))\n",
        "print('m error: ', rel_error(expected_m, config['m']))"
      ]
    },
    {
      "cell_type": "markdown",
      "id": "a6f09029",
      "metadata": {
        "id": "a6f09029"
      },
      "source": [
        "Обучите пару глубоких сетей с испольованием RMSProp и Adam алгоритмов обновления весов и сравните результаты обучения.\n",
        "\n",
        "Получите лучшую полносвязную сеть для классификации вашего набора данных. На наборе CIFAR-10 необходимо получить accuracy не ниже 50 % на валидационном наборе."
      ]
    },
    {
      "cell_type": "code",
      "execution_count": null,
      "id": "69486078",
      "metadata": {
        "id": "69486078",
        "outputId": "4570f984-e71a-4a88-e07e-a06f983837d8"
      },
      "outputs": [
        {
          "name": "stdout",
          "output_type": "stream",
          "text": [
            "(Iteration 1 / 4900) loss: 2.356442\n",
            "(Epoch 0 / 10) train acc: 0.100000; val_acc: 0.100000\n",
            "(Iteration 11 / 4900) loss: 2.175759\n",
            "(Iteration 21 / 4900) loss: 2.118760\n",
            "(Iteration 31 / 4900) loss: 2.058591\n",
            "(Iteration 41 / 4900) loss: 1.997853\n",
            "(Iteration 51 / 4900) loss: 1.953487\n",
            "(Iteration 61 / 4900) loss: 1.938877\n",
            "(Iteration 71 / 4900) loss: 1.923393\n",
            "(Iteration 81 / 4900) loss: 1.841283\n",
            "(Iteration 91 / 4900) loss: 1.757483\n",
            "(Iteration 101 / 4900) loss: 1.625088\n",
            "(Iteration 111 / 4900) loss: 1.726343\n",
            "(Iteration 121 / 4900) loss: 1.823393\n",
            "(Iteration 131 / 4900) loss: 1.847661\n",
            "(Iteration 141 / 4900) loss: 1.871873\n",
            "(Iteration 151 / 4900) loss: 1.789507\n",
            "(Iteration 161 / 4900) loss: 1.817209\n",
            "(Iteration 171 / 4900) loss: 1.843247\n",
            "(Iteration 181 / 4900) loss: 1.703823\n",
            "(Iteration 191 / 4900) loss: 1.736678\n",
            "(Iteration 201 / 4900) loss: 1.709021\n",
            "(Iteration 211 / 4900) loss: 1.696440\n",
            "(Iteration 221 / 4900) loss: 1.786309\n",
            "(Iteration 231 / 4900) loss: 1.691684\n",
            "(Iteration 241 / 4900) loss: 1.625046\n",
            "(Iteration 251 / 4900) loss: 1.801658\n",
            "(Iteration 261 / 4900) loss: 1.639835\n",
            "(Iteration 271 / 4900) loss: 1.753075\n",
            "(Iteration 281 / 4900) loss: 1.791512\n",
            "(Iteration 291 / 4900) loss: 1.932322\n",
            "(Iteration 301 / 4900) loss: 1.760291\n",
            "(Iteration 311 / 4900) loss: 1.605984\n",
            "(Iteration 321 / 4900) loss: 1.724902\n",
            "(Iteration 331 / 4900) loss: 1.710907\n",
            "(Iteration 341 / 4900) loss: 1.745139\n",
            "(Iteration 351 / 4900) loss: 1.665770\n",
            "(Iteration 361 / 4900) loss: 1.575027\n",
            "(Iteration 371 / 4900) loss: 1.530065\n",
            "(Iteration 381 / 4900) loss: 1.714043\n",
            "(Iteration 391 / 4900) loss: 1.565024\n",
            "(Iteration 401 / 4900) loss: 1.675995\n",
            "(Iteration 411 / 4900) loss: 1.581909\n",
            "(Iteration 421 / 4900) loss: 1.397329\n",
            "(Iteration 431 / 4900) loss: 1.498901\n",
            "(Iteration 441 / 4900) loss: 1.719282\n",
            "(Iteration 451 / 4900) loss: 1.537134\n",
            "(Iteration 461 / 4900) loss: 1.612856\n",
            "(Iteration 471 / 4900) loss: 1.518419\n",
            "(Iteration 481 / 4900) loss: 1.595917\n",
            "(Epoch 1 / 10) train acc: 0.480000; val_acc: 0.462000\n",
            "(Iteration 491 / 4900) loss: 1.687716\n",
            "(Iteration 501 / 4900) loss: 1.595295\n",
            "(Iteration 511 / 4900) loss: 1.589663\n",
            "(Iteration 521 / 4900) loss: 1.449729\n",
            "(Iteration 531 / 4900) loss: 1.453182\n",
            "(Iteration 541 / 4900) loss: 1.602263\n",
            "(Iteration 551 / 4900) loss: 1.663305\n",
            "(Iteration 561 / 4900) loss: 1.491888\n",
            "(Iteration 571 / 4900) loss: 1.775881\n",
            "(Iteration 581 / 4900) loss: 1.399411\n",
            "(Iteration 591 / 4900) loss: 1.551942\n",
            "(Iteration 601 / 4900) loss: 1.548251\n",
            "(Iteration 611 / 4900) loss: 1.439833\n",
            "(Iteration 621 / 4900) loss: 1.577209\n",
            "(Iteration 631 / 4900) loss: 1.683383\n",
            "(Iteration 641 / 4900) loss: 1.786244\n",
            "(Iteration 651 / 4900) loss: 1.607936\n",
            "(Iteration 661 / 4900) loss: 1.486753\n",
            "(Iteration 671 / 4900) loss: 1.693368\n",
            "(Iteration 681 / 4900) loss: 1.431263\n",
            "(Iteration 691 / 4900) loss: 1.566875\n",
            "(Iteration 701 / 4900) loss: 1.498461\n",
            "(Iteration 711 / 4900) loss: 1.458549\n",
            "(Iteration 721 / 4900) loss: 1.388822\n",
            "(Iteration 731 / 4900) loss: 1.435131\n",
            "(Iteration 741 / 4900) loss: 1.494771\n",
            "(Iteration 751 / 4900) loss: 1.628099\n",
            "(Iteration 761 / 4900) loss: 1.543815\n",
            "(Iteration 771 / 4900) loss: 1.459423\n",
            "(Iteration 781 / 4900) loss: 1.617602\n",
            "(Iteration 791 / 4900) loss: 1.688682\n",
            "(Iteration 801 / 4900) loss: 1.652133\n",
            "(Iteration 811 / 4900) loss: 1.472255\n",
            "(Iteration 821 / 4900) loss: 1.365102\n",
            "(Iteration 831 / 4900) loss: 1.349567\n",
            "(Iteration 841 / 4900) loss: 1.507407\n",
            "(Iteration 851 / 4900) loss: 1.414858\n",
            "(Iteration 861 / 4900) loss: 1.326791\n",
            "(Iteration 871 / 4900) loss: 1.535368\n",
            "(Iteration 881 / 4900) loss: 1.490800\n",
            "(Iteration 891 / 4900) loss: 1.666409\n",
            "(Iteration 901 / 4900) loss: 1.479477\n",
            "(Iteration 911 / 4900) loss: 1.464854\n",
            "(Iteration 921 / 4900) loss: 1.522238\n",
            "(Iteration 931 / 4900) loss: 1.487343\n",
            "(Iteration 941 / 4900) loss: 1.415115\n",
            "(Iteration 951 / 4900) loss: 1.473729\n",
            "(Iteration 961 / 4900) loss: 1.473998\n",
            "(Iteration 971 / 4900) loss: 1.330384\n",
            "(Epoch 2 / 10) train acc: 0.529000; val_acc: 0.508000\n",
            "(Iteration 981 / 4900) loss: 1.345929\n",
            "(Iteration 991 / 4900) loss: 1.517990\n",
            "(Iteration 1001 / 4900) loss: 1.555044\n",
            "(Iteration 1011 / 4900) loss: 1.363836\n",
            "(Iteration 1021 / 4900) loss: 1.714540\n",
            "(Iteration 1031 / 4900) loss: 1.484161\n",
            "(Iteration 1041 / 4900) loss: 1.281287\n",
            "(Iteration 1051 / 4900) loss: 1.511777\n",
            "(Iteration 1061 / 4900) loss: 1.767977\n",
            "(Iteration 1071 / 4900) loss: 1.520312\n",
            "(Iteration 1081 / 4900) loss: 1.609484\n",
            "(Iteration 1091 / 4900) loss: 1.509346\n",
            "(Iteration 1101 / 4900) loss: 1.405154\n",
            "(Iteration 1111 / 4900) loss: 1.411149\n",
            "(Iteration 1121 / 4900) loss: 1.538995\n",
            "(Iteration 1131 / 4900) loss: 1.391669\n",
            "(Iteration 1141 / 4900) loss: 1.427001\n",
            "(Iteration 1151 / 4900) loss: 1.431857\n",
            "(Iteration 1161 / 4900) loss: 1.402379\n",
            "(Iteration 1171 / 4900) loss: 1.482538\n",
            "(Iteration 1181 / 4900) loss: 1.368221\n",
            "(Iteration 1191 / 4900) loss: 1.518254\n",
            "(Iteration 1201 / 4900) loss: 1.460125\n",
            "(Iteration 1211 / 4900) loss: 1.386207\n",
            "(Iteration 1221 / 4900) loss: 1.417028\n",
            "(Iteration 1231 / 4900) loss: 1.406613\n",
            "(Iteration 1241 / 4900) loss: 1.397037\n",
            "(Iteration 1251 / 4900) loss: 1.414035\n",
            "(Iteration 1261 / 4900) loss: 1.402006\n",
            "(Iteration 1271 / 4900) loss: 1.385636\n",
            "(Iteration 1281 / 4900) loss: 1.524427\n",
            "(Iteration 1291 / 4900) loss: 1.557118\n",
            "(Iteration 1301 / 4900) loss: 1.474156\n",
            "(Iteration 1311 / 4900) loss: 1.438796\n",
            "(Iteration 1321 / 4900) loss: 1.490646\n",
            "(Iteration 1331 / 4900) loss: 1.388854\n",
            "(Iteration 1341 / 4900) loss: 1.399872\n",
            "(Iteration 1351 / 4900) loss: 1.375781\n",
            "(Iteration 1361 / 4900) loss: 1.452061\n",
            "(Iteration 1371 / 4900) loss: 1.564077\n",
            "(Iteration 1381 / 4900) loss: 1.614833\n",
            "(Iteration 1391 / 4900) loss: 1.383475\n",
            "(Iteration 1401 / 4900) loss: 1.248141\n",
            "(Iteration 1411 / 4900) loss: 1.361874\n",
            "(Iteration 1421 / 4900) loss: 1.433844\n",
            "(Iteration 1431 / 4900) loss: 1.482391\n",
            "(Iteration 1441 / 4900) loss: 1.534788\n",
            "(Iteration 1451 / 4900) loss: 1.563753\n",
            "(Iteration 1461 / 4900) loss: 1.548261\n",
            "(Epoch 3 / 10) train acc: 0.538000; val_acc: 0.524000\n",
            "(Iteration 1471 / 4900) loss: 1.527507\n",
            "(Iteration 1481 / 4900) loss: 1.399123\n",
            "(Iteration 1491 / 4900) loss: 1.374554\n",
            "(Iteration 1501 / 4900) loss: 1.303810\n",
            "(Iteration 1511 / 4900) loss: 1.437076\n",
            "(Iteration 1521 / 4900) loss: 1.462513\n",
            "(Iteration 1531 / 4900) loss: 1.277342\n",
            "(Iteration 1541 / 4900) loss: 1.522981\n",
            "(Iteration 1551 / 4900) loss: 1.483435\n",
            "(Iteration 1561 / 4900) loss: 1.255764\n",
            "(Iteration 1571 / 4900) loss: 1.490149\n",
            "(Iteration 1581 / 4900) loss: 1.559582\n",
            "(Iteration 1591 / 4900) loss: 1.486141\n",
            "(Iteration 1601 / 4900) loss: 1.352947\n",
            "(Iteration 1611 / 4900) loss: 1.522651\n",
            "(Iteration 1621 / 4900) loss: 1.292067\n",
            "(Iteration 1631 / 4900) loss: 1.633790\n",
            "(Iteration 1641 / 4900) loss: 1.493104\n",
            "(Iteration 1651 / 4900) loss: 1.407114\n",
            "(Iteration 1661 / 4900) loss: 1.588793\n",
            "(Iteration 1671 / 4900) loss: 1.619723\n",
            "(Iteration 1681 / 4900) loss: 1.264880\n",
            "(Iteration 1691 / 4900) loss: 1.405717\n",
            "(Iteration 1701 / 4900) loss: 1.477052\n",
            "(Iteration 1711 / 4900) loss: 1.431301\n",
            "(Iteration 1721 / 4900) loss: 1.297959\n",
            "(Iteration 1731 / 4900) loss: 1.442449\n",
            "(Iteration 1741 / 4900) loss: 1.371885\n",
            "(Iteration 1751 / 4900) loss: 1.391229\n",
            "(Iteration 1761 / 4900) loss: 1.353640\n",
            "(Iteration 1771 / 4900) loss: 1.430978\n",
            "(Iteration 1781 / 4900) loss: 1.416487\n",
            "(Iteration 1791 / 4900) loss: 1.427500\n",
            "(Iteration 1801 / 4900) loss: 1.359539\n",
            "(Iteration 1811 / 4900) loss: 1.309730\n",
            "(Iteration 1821 / 4900) loss: 1.392129\n",
            "(Iteration 1831 / 4900) loss: 1.301497\n",
            "(Iteration 1841 / 4900) loss: 1.395455\n",
            "(Iteration 1851 / 4900) loss: 1.371624\n",
            "(Iteration 1861 / 4900) loss: 1.338332\n",
            "(Iteration 1871 / 4900) loss: 1.275636\n",
            "(Iteration 1881 / 4900) loss: 1.358131\n",
            "(Iteration 1891 / 4900) loss: 1.324004\n",
            "(Iteration 1901 / 4900) loss: 1.373188\n",
            "(Iteration 1911 / 4900) loss: 1.418167\n",
            "(Iteration 1921 / 4900) loss: 1.184743\n",
            "(Iteration 1931 / 4900) loss: 1.329136\n",
            "(Iteration 1941 / 4900) loss: 1.577658\n",
            "(Iteration 1951 / 4900) loss: 1.394808\n",
            "(Epoch 4 / 10) train acc: 0.567000; val_acc: 0.530000\n",
            "(Iteration 1961 / 4900) loss: 1.483602\n",
            "(Iteration 1971 / 4900) loss: 1.407555\n",
            "(Iteration 1981 / 4900) loss: 1.431007\n",
            "(Iteration 1991 / 4900) loss: 1.401137\n",
            "(Iteration 2001 / 4900) loss: 1.355337\n",
            "(Iteration 2011 / 4900) loss: 1.413157\n",
            "(Iteration 2021 / 4900) loss: 1.284677\n",
            "(Iteration 2031 / 4900) loss: 1.288379\n",
            "(Iteration 2041 / 4900) loss: 1.674231\n",
            "(Iteration 2051 / 4900) loss: 1.267903\n"
          ]
        },
        {
          "name": "stdout",
          "output_type": "stream",
          "text": [
            "(Iteration 2061 / 4900) loss: 1.501860\n",
            "(Iteration 2071 / 4900) loss: 1.398911\n",
            "(Iteration 2081 / 4900) loss: 1.237075\n",
            "(Iteration 2091 / 4900) loss: 1.125784\n",
            "(Iteration 2101 / 4900) loss: 1.411793\n",
            "(Iteration 2111 / 4900) loss: 1.294206\n",
            "(Iteration 2121 / 4900) loss: 1.448269\n",
            "(Iteration 2131 / 4900) loss: 1.346334\n",
            "(Iteration 2141 / 4900) loss: 1.362706\n",
            "(Iteration 2151 / 4900) loss: 1.404039\n",
            "(Iteration 2161 / 4900) loss: 1.355840\n",
            "(Iteration 2171 / 4900) loss: 1.450406\n",
            "(Iteration 2181 / 4900) loss: 1.265842\n",
            "(Iteration 2191 / 4900) loss: 1.160360\n",
            "(Iteration 2201 / 4900) loss: 1.195812\n",
            "(Iteration 2211 / 4900) loss: 1.333941\n",
            "(Iteration 2221 / 4900) loss: 1.400304\n",
            "(Iteration 2231 / 4900) loss: 1.240495\n",
            "(Iteration 2241 / 4900) loss: 1.560503\n",
            "(Iteration 2251 / 4900) loss: 1.211533\n",
            "(Iteration 2261 / 4900) loss: 1.214447\n",
            "(Iteration 2271 / 4900) loss: 1.217503\n",
            "(Iteration 2281 / 4900) loss: 1.431404\n",
            "(Iteration 2291 / 4900) loss: 1.458375\n",
            "(Iteration 2301 / 4900) loss: 1.399828\n",
            "(Iteration 2311 / 4900) loss: 1.524947\n",
            "(Iteration 2321 / 4900) loss: 1.222310\n",
            "(Iteration 2331 / 4900) loss: 1.214186\n",
            "(Iteration 2341 / 4900) loss: 1.246363\n",
            "(Iteration 2351 / 4900) loss: 1.437026\n",
            "(Iteration 2361 / 4900) loss: 1.433385\n",
            "(Iteration 2371 / 4900) loss: 1.303177\n",
            "(Iteration 2381 / 4900) loss: 1.345287\n",
            "(Iteration 2391 / 4900) loss: 1.314977\n",
            "(Iteration 2401 / 4900) loss: 1.421513\n",
            "(Iteration 2411 / 4900) loss: 1.168255\n",
            "(Iteration 2421 / 4900) loss: 1.260969\n",
            "(Iteration 2431 / 4900) loss: 1.367043\n",
            "(Iteration 2441 / 4900) loss: 1.342045\n",
            "(Epoch 5 / 10) train acc: 0.597000; val_acc: 0.527000\n",
            "(Iteration 2451 / 4900) loss: 1.324100\n",
            "(Iteration 2461 / 4900) loss: 1.288401\n",
            "(Iteration 2471 / 4900) loss: 1.219395\n",
            "(Iteration 2481 / 4900) loss: 1.344347\n",
            "(Iteration 2491 / 4900) loss: 1.250214\n",
            "(Iteration 2501 / 4900) loss: 1.192835\n",
            "(Iteration 2511 / 4900) loss: 1.102804\n",
            "(Iteration 2521 / 4900) loss: 1.286207\n",
            "(Iteration 2531 / 4900) loss: 1.254386\n",
            "(Iteration 2541 / 4900) loss: 1.362429\n",
            "(Iteration 2551 / 4900) loss: 1.386635\n",
            "(Iteration 2561 / 4900) loss: 1.302488\n",
            "(Iteration 2571 / 4900) loss: 1.449360\n",
            "(Iteration 2581 / 4900) loss: 1.204541\n",
            "(Iteration 2591 / 4900) loss: 1.403144\n",
            "(Iteration 2601 / 4900) loss: 1.135523\n",
            "(Iteration 2611 / 4900) loss: 1.551866\n",
            "(Iteration 2621 / 4900) loss: 1.337390\n",
            "(Iteration 2631 / 4900) loss: 1.363493\n",
            "(Iteration 2641 / 4900) loss: 1.226234\n",
            "(Iteration 2651 / 4900) loss: 1.254369\n",
            "(Iteration 2661 / 4900) loss: 1.423517\n",
            "(Iteration 2671 / 4900) loss: 1.246437\n",
            "(Iteration 2681 / 4900) loss: 1.452818\n",
            "(Iteration 2691 / 4900) loss: 1.233412\n",
            "(Iteration 2701 / 4900) loss: 1.345901\n",
            "(Iteration 2711 / 4900) loss: 1.162905\n",
            "(Iteration 2721 / 4900) loss: 1.413587\n",
            "(Iteration 2731 / 4900) loss: 1.299588\n",
            "(Iteration 2741 / 4900) loss: 1.267362\n",
            "(Iteration 2751 / 4900) loss: 1.546104\n",
            "(Iteration 2761 / 4900) loss: 1.437280\n",
            "(Iteration 2771 / 4900) loss: 1.532683\n",
            "(Iteration 2781 / 4900) loss: 1.428039\n",
            "(Iteration 2791 / 4900) loss: 1.505234\n",
            "(Iteration 2801 / 4900) loss: 1.159871\n",
            "(Iteration 2811 / 4900) loss: 1.305212\n",
            "(Iteration 2821 / 4900) loss: 1.331744\n",
            "(Iteration 2831 / 4900) loss: 1.461245\n",
            "(Iteration 2841 / 4900) loss: 1.041359\n",
            "(Iteration 2851 / 4900) loss: 1.336450\n",
            "(Iteration 2861 / 4900) loss: 1.430538\n",
            "(Iteration 2871 / 4900) loss: 1.550142\n",
            "(Iteration 2881 / 4900) loss: 1.325268\n",
            "(Iteration 2891 / 4900) loss: 1.153985\n",
            "(Iteration 2901 / 4900) loss: 1.245329\n",
            "(Iteration 2911 / 4900) loss: 1.236242\n",
            "(Iteration 2921 / 4900) loss: 1.240719\n",
            "(Iteration 2931 / 4900) loss: 1.322745\n",
            "(Epoch 6 / 10) train acc: 0.570000; val_acc: 0.535000\n",
            "(Iteration 2941 / 4900) loss: 1.313242\n",
            "(Iteration 2951 / 4900) loss: 1.129444\n",
            "(Iteration 2961 / 4900) loss: 1.267120\n",
            "(Iteration 2971 / 4900) loss: 1.397779\n",
            "(Iteration 2981 / 4900) loss: 1.557189\n",
            "(Iteration 2991 / 4900) loss: 1.329325\n",
            "(Iteration 3001 / 4900) loss: 1.253224\n",
            "(Iteration 3011 / 4900) loss: 1.379987\n",
            "(Iteration 3021 / 4900) loss: 1.282106\n",
            "(Iteration 3031 / 4900) loss: 1.341815\n",
            "(Iteration 3041 / 4900) loss: 1.032488\n",
            "(Iteration 3051 / 4900) loss: 1.333367\n",
            "(Iteration 3061 / 4900) loss: 1.431014\n",
            "(Iteration 3071 / 4900) loss: 1.339638\n",
            "(Iteration 3081 / 4900) loss: 1.270862\n",
            "(Iteration 3091 / 4900) loss: 1.302876\n",
            "(Iteration 3101 / 4900) loss: 1.433421\n",
            "(Iteration 3111 / 4900) loss: 1.251691\n",
            "(Iteration 3121 / 4900) loss: 1.458856\n",
            "(Iteration 3131 / 4900) loss: 1.246284\n",
            "(Iteration 3141 / 4900) loss: 1.317447\n",
            "(Iteration 3151 / 4900) loss: 1.354650\n",
            "(Iteration 3161 / 4900) loss: 1.316974\n",
            "(Iteration 3171 / 4900) loss: 1.195433\n",
            "(Iteration 3181 / 4900) loss: 1.307276\n",
            "(Iteration 3191 / 4900) loss: 1.182689\n",
            "(Iteration 3201 / 4900) loss: 1.000872\n",
            "(Iteration 3211 / 4900) loss: 1.095714\n",
            "(Iteration 3221 / 4900) loss: 1.455592\n",
            "(Iteration 3231 / 4900) loss: 1.458940\n",
            "(Iteration 3241 / 4900) loss: 1.270777\n",
            "(Iteration 3251 / 4900) loss: 1.270151\n",
            "(Iteration 3261 / 4900) loss: 1.194659\n",
            "(Iteration 3271 / 4900) loss: 1.372428\n",
            "(Iteration 3281 / 4900) loss: 1.129808\n",
            "(Iteration 3291 / 4900) loss: 1.371416\n",
            "(Iteration 3301 / 4900) loss: 1.286899\n",
            "(Iteration 3311 / 4900) loss: 1.338508\n",
            "(Iteration 3321 / 4900) loss: 1.249500\n",
            "(Iteration 3331 / 4900) loss: 1.363757\n",
            "(Iteration 3341 / 4900) loss: 1.188289\n",
            "(Iteration 3351 / 4900) loss: 1.547554\n",
            "(Iteration 3361 / 4900) loss: 1.196822\n",
            "(Iteration 3371 / 4900) loss: 1.356216\n",
            "(Iteration 3381 / 4900) loss: 1.245236\n",
            "(Iteration 3391 / 4900) loss: 1.443933\n",
            "(Iteration 3401 / 4900) loss: 1.385707\n",
            "(Iteration 3411 / 4900) loss: 1.284856\n",
            "(Iteration 3421 / 4900) loss: 1.255594\n",
            "(Epoch 7 / 10) train acc: 0.594000; val_acc: 0.554000\n",
            "(Iteration 3431 / 4900) loss: 1.290947\n",
            "(Iteration 3441 / 4900) loss: 1.249794\n",
            "(Iteration 3451 / 4900) loss: 1.301372\n",
            "(Iteration 3461 / 4900) loss: 1.401644\n",
            "(Iteration 3471 / 4900) loss: 1.195407\n",
            "(Iteration 3481 / 4900) loss: 1.308754\n",
            "(Iteration 3491 / 4900) loss: 1.239698\n",
            "(Iteration 3501 / 4900) loss: 1.318119\n",
            "(Iteration 3511 / 4900) loss: 1.380711\n",
            "(Iteration 3521 / 4900) loss: 1.365638\n",
            "(Iteration 3531 / 4900) loss: 1.332442\n",
            "(Iteration 3541 / 4900) loss: 1.363392\n",
            "(Iteration 3551 / 4900) loss: 1.269814\n",
            "(Iteration 3561 / 4900) loss: 1.189236\n",
            "(Iteration 3571 / 4900) loss: 1.161667\n",
            "(Iteration 3581 / 4900) loss: 1.275046\n",
            "(Iteration 3591 / 4900) loss: 1.314934\n",
            "(Iteration 3601 / 4900) loss: 1.100019\n",
            "(Iteration 3611 / 4900) loss: 1.307372\n",
            "(Iteration 3621 / 4900) loss: 1.247634\n",
            "(Iteration 3631 / 4900) loss: 1.380363\n",
            "(Iteration 3641 / 4900) loss: 1.130154\n",
            "(Iteration 3651 / 4900) loss: 1.271663\n",
            "(Iteration 3661 / 4900) loss: 1.161386\n",
            "(Iteration 3671 / 4900) loss: 1.372021\n",
            "(Iteration 3681 / 4900) loss: 1.327689\n",
            "(Iteration 3691 / 4900) loss: 1.315532\n",
            "(Iteration 3701 / 4900) loss: 1.336777\n",
            "(Iteration 3711 / 4900) loss: 1.305287\n",
            "(Iteration 3721 / 4900) loss: 1.239519\n",
            "(Iteration 3731 / 4900) loss: 1.414694\n",
            "(Iteration 3741 / 4900) loss: 1.259215\n",
            "(Iteration 3751 / 4900) loss: 1.285209\n",
            "(Iteration 3761 / 4900) loss: 1.453836\n",
            "(Iteration 3771 / 4900) loss: 1.181966\n",
            "(Iteration 3781 / 4900) loss: 1.455108\n",
            "(Iteration 3791 / 4900) loss: 1.343560\n",
            "(Iteration 3801 / 4900) loss: 1.637032\n",
            "(Iteration 3811 / 4900) loss: 1.382424\n",
            "(Iteration 3821 / 4900) loss: 1.100321\n",
            "(Iteration 3831 / 4900) loss: 1.126371\n",
            "(Iteration 3841 / 4900) loss: 1.091007\n",
            "(Iteration 3851 / 4900) loss: 1.202844\n",
            "(Iteration 3861 / 4900) loss: 1.046000\n",
            "(Iteration 3871 / 4900) loss: 1.383528\n",
            "(Iteration 3881 / 4900) loss: 1.107665\n",
            "(Iteration 3891 / 4900) loss: 1.073654\n",
            "(Iteration 3901 / 4900) loss: 1.242828\n",
            "(Iteration 3911 / 4900) loss: 1.226373\n",
            "(Epoch 8 / 10) train acc: 0.623000; val_acc: 0.528000\n",
            "(Iteration 3921 / 4900) loss: 1.229307\n",
            "(Iteration 3931 / 4900) loss: 1.169523\n",
            "(Iteration 3941 / 4900) loss: 1.213182\n",
            "(Iteration 3951 / 4900) loss: 1.329221\n",
            "(Iteration 3961 / 4900) loss: 1.343597\n",
            "(Iteration 3971 / 4900) loss: 1.113275\n",
            "(Iteration 3981 / 4900) loss: 1.213649\n",
            "(Iteration 3991 / 4900) loss: 1.152967\n",
            "(Iteration 4001 / 4900) loss: 1.286634\n",
            "(Iteration 4011 / 4900) loss: 1.170271\n",
            "(Iteration 4021 / 4900) loss: 1.099215\n",
            "(Iteration 4031 / 4900) loss: 1.224784\n",
            "(Iteration 4041 / 4900) loss: 1.542572\n",
            "(Iteration 4051 / 4900) loss: 1.416629\n",
            "(Iteration 4061 / 4900) loss: 1.222045\n",
            "(Iteration 4071 / 4900) loss: 1.062585\n",
            "(Iteration 4081 / 4900) loss: 1.449091\n",
            "(Iteration 4091 / 4900) loss: 1.230913\n",
            "(Iteration 4101 / 4900) loss: 1.231308\n"
          ]
        },
        {
          "name": "stdout",
          "output_type": "stream",
          "text": [
            "(Iteration 4111 / 4900) loss: 1.161056\n",
            "(Iteration 4121 / 4900) loss: 1.271028\n",
            "(Iteration 4131 / 4900) loss: 1.369042\n",
            "(Iteration 4141 / 4900) loss: 1.171914\n",
            "(Iteration 4151 / 4900) loss: 1.068212\n",
            "(Iteration 4161 / 4900) loss: 1.178318\n",
            "(Iteration 4171 / 4900) loss: 1.140628\n",
            "(Iteration 4181 / 4900) loss: 1.487367\n",
            "(Iteration 4191 / 4900) loss: 1.226428\n",
            "(Iteration 4201 / 4900) loss: 1.196751\n",
            "(Iteration 4211 / 4900) loss: 1.155049\n",
            "(Iteration 4221 / 4900) loss: 1.274572\n",
            "(Iteration 4231 / 4900) loss: 1.170511\n",
            "(Iteration 4241 / 4900) loss: 1.256764\n",
            "(Iteration 4251 / 4900) loss: 1.078823\n",
            "(Iteration 4261 / 4900) loss: 1.368279\n",
            "(Iteration 4271 / 4900) loss: 1.203433\n",
            "(Iteration 4281 / 4900) loss: 1.166833\n",
            "(Iteration 4291 / 4900) loss: 1.019864\n",
            "(Iteration 4301 / 4900) loss: 1.256580\n",
            "(Iteration 4311 / 4900) loss: 1.062442\n",
            "(Iteration 4321 / 4900) loss: 1.058838\n",
            "(Iteration 4331 / 4900) loss: 1.260609\n",
            "(Iteration 4341 / 4900) loss: 1.151285\n",
            "(Iteration 4351 / 4900) loss: 1.342145\n",
            "(Iteration 4361 / 4900) loss: 1.438112\n",
            "(Iteration 4371 / 4900) loss: 1.224330\n",
            "(Iteration 4381 / 4900) loss: 1.266128\n",
            "(Iteration 4391 / 4900) loss: 1.168507\n",
            "(Iteration 4401 / 4900) loss: 1.133180\n",
            "(Epoch 9 / 10) train acc: 0.633000; val_acc: 0.558000\n",
            "(Iteration 4411 / 4900) loss: 1.064083\n",
            "(Iteration 4421 / 4900) loss: 1.397681\n",
            "(Iteration 4431 / 4900) loss: 1.124205\n",
            "(Iteration 4441 / 4900) loss: 1.222755\n",
            "(Iteration 4451 / 4900) loss: 1.203575\n",
            "(Iteration 4461 / 4900) loss: 1.243924\n",
            "(Iteration 4471 / 4900) loss: 1.169680\n",
            "(Iteration 4481 / 4900) loss: 1.355123\n",
            "(Iteration 4491 / 4900) loss: 1.243890\n",
            "(Iteration 4501 / 4900) loss: 1.213382\n",
            "(Iteration 4511 / 4900) loss: 1.121042\n",
            "(Iteration 4521 / 4900) loss: 1.388880\n",
            "(Iteration 4531 / 4900) loss: 1.195176\n",
            "(Iteration 4541 / 4900) loss: 1.107173\n",
            "(Iteration 4551 / 4900) loss: 1.248295\n",
            "(Iteration 4561 / 4900) loss: 1.068675\n",
            "(Iteration 4571 / 4900) loss: 1.158502\n",
            "(Iteration 4581 / 4900) loss: 1.386531\n",
            "(Iteration 4591 / 4900) loss: 1.076331\n",
            "(Iteration 4601 / 4900) loss: 1.247755\n",
            "(Iteration 4611 / 4900) loss: 1.277270\n",
            "(Iteration 4621 / 4900) loss: 1.224912\n",
            "(Iteration 4631 / 4900) loss: 1.150335\n",
            "(Iteration 4641 / 4900) loss: 1.136400\n",
            "(Iteration 4651 / 4900) loss: 1.274057\n",
            "(Iteration 4661 / 4900) loss: 1.447689\n",
            "(Iteration 4671 / 4900) loss: 1.157199\n",
            "(Iteration 4681 / 4900) loss: 1.030481\n",
            "(Iteration 4691 / 4900) loss: 1.194366\n",
            "(Iteration 4701 / 4900) loss: 1.199502\n",
            "(Iteration 4711 / 4900) loss: 1.236576\n",
            "(Iteration 4721 / 4900) loss: 1.206852\n",
            "(Iteration 4731 / 4900) loss: 1.211827\n",
            "(Iteration 4741 / 4900) loss: 1.165532\n",
            "(Iteration 4751 / 4900) loss: 1.021876\n",
            "(Iteration 4761 / 4900) loss: 1.201935\n",
            "(Iteration 4771 / 4900) loss: 1.100625\n",
            "(Iteration 4781 / 4900) loss: 1.301144\n",
            "(Iteration 4791 / 4900) loss: 1.235249\n",
            "(Iteration 4801 / 4900) loss: 1.244712\n",
            "(Iteration 4811 / 4900) loss: 1.190265\n",
            "(Iteration 4821 / 4900) loss: 1.236279\n",
            "(Iteration 4831 / 4900) loss: 1.248620\n",
            "(Iteration 4841 / 4900) loss: 1.103302\n",
            "(Iteration 4851 / 4900) loss: 1.409185\n",
            "(Iteration 4861 / 4900) loss: 1.247351\n",
            "(Iteration 4871 / 4900) loss: 1.266739\n",
            "(Iteration 4881 / 4900) loss: 1.039992\n",
            "(Iteration 4891 / 4900) loss: 1.146479\n",
            "(Epoch 10 / 10) train acc: 0.649000; val_acc: 0.573000\n"
          ]
        }
      ],
      "source": [
        "best_model = None\n",
        "\n",
        "################################################################################\n",
        "# TODO: Train the best FullyConnectedNet that you can on CIFAR-10. You might   #\n",
        "# find batch/layer normalization and dropout useful. Store your best model in  #\n",
        "# the best_model variable.                                                     #\n",
        "################################################################################\n",
        "# *****START OF YOUR CODE (DO NOT DELETE/MODIFY THIS LINE)*****\n",
        "\n",
        "model = FullyConnectedNet(\n",
        "        [500, 200, 50],\n",
        "        weight_scale=5e-2,\n",
        "        dropout_keep_ratio = 0.75,\n",
        "        normalization='batchnorm',\n",
        "    )\n",
        "solver = Solver(\n",
        "    model,\n",
        "    data,\n",
        "    num_epochs=10,\n",
        "    batch_size=100,\n",
        "    update_rule='adam',\n",
        "    optim_config={'learning_rate': 1e-3},\n",
        "    verbose=True\n",
        ")\n",
        "\n",
        "solver.train()\n",
        "\n",
        "\n",
        "# *****END OF YOUR CODE (DO NOT DELETE/MODIFY THIS LINE)*****\n",
        "################################################################################\n",
        "#                              END OF YOUR CODE                                #\n",
        "################################################################################"
      ]
    },
    {
      "cell_type": "markdown",
      "id": "f1748f14",
      "metadata": {
        "id": "f1748f14"
      },
      "source": [
        "Получите оценку accuracy для валидационной и тестовой выборок."
      ]
    },
    {
      "cell_type": "code",
      "execution_count": null,
      "id": "c2575cf9",
      "metadata": {
        "id": "c2575cf9",
        "outputId": "5bf2408e-6069-41e8-d547-2e2c07115d4c"
      },
      "outputs": [
        {
          "name": "stdout",
          "output_type": "stream",
          "text": [
            "Validation set accuracy:  0.573\n",
            "Test set accuracy:  0.568\n"
          ]
        }
      ],
      "source": [
        "best_model = model\n",
        "\n",
        "y_test_pred = np.argmax(best_model.loss(data['X_test']), axis=1)\n",
        "y_val_pred = np.argmax(best_model.loss(data['X_val']), axis=1)\n",
        "print('Validation set accuracy: ', (y_val_pred == data['y_val']).mean())\n",
        "print('Test set accuracy: ', (y_test_pred == data['y_test']).mean())"
      ]
    },
    {
      "cell_type": "markdown",
      "id": "61bbd85e",
      "metadata": {
        "id": "61bbd85e"
      },
      "source": [
        "### 2. Нормализация по мини-батчам"
      ]
    },
    {
      "cell_type": "markdown",
      "id": "f60d2481",
      "metadata": {
        "id": "f60d2481"
      },
      "source": [
        "Идея нормализации по мини-батчам предложена в работе [1]\n",
        "\n",
        "[1] Sergey Ioffe and Christian Szegedy, \"Batch Normalization: Accelerating Deep Network Training by Reducing Internal Covariate Shift\", ICML 2015.\n",
        "\n",
        "Реализуйте прямой проход для слоя батч-нормализации - функция batchnorm_forward в scripts/layers.py . Проверьте свою реализацию, запустив следующий код:"
      ]
    },
    {
      "cell_type": "code",
      "execution_count": null,
      "id": "12721ce8",
      "metadata": {
        "id": "12721ce8",
        "outputId": "90f6b218-f77f-4072-a9c5-41b83b6d219b"
      },
      "outputs": [
        {
          "name": "stdout",
          "output_type": "stream",
          "text": [
            "Before batch normalization:\n",
            "  means:  [ -2.3814598  -13.18038246   1.91780462]\n",
            "  stds:   [27.18502186 34.21455511 37.68611762]\n",
            "\n",
            "After batch normalization (gamma=1, beta=0)\n",
            "  means:  [ 5.99520433e-17  3.21964677e-17 -6.38378239e-18]\n",
            "  stds:   [0.99999999 1.         1.        ]\n",
            "\n",
            "After batch normalization (gamma= [1. 2. 3.] , beta= [11. 12. 13.] )\n",
            "  means:  [11. 12. 13.]\n",
            "  stds:   [0.99999999 1.99999999 2.99999999]\n",
            "\n"
          ]
        }
      ],
      "source": [
        "# Check the training-time forward pass by checking means and variances\n",
        "# of features both before and after batch normalization   \n",
        "\n",
        "# Simulate the forward pass for a two-layer network\n",
        "np.random.seed(231)\n",
        "N, D1, D2, D3 = 200, 50, 60, 3\n",
        "X = np.random.randn(N, D1)\n",
        "W1 = np.random.randn(D1, D2)\n",
        "W2 = np.random.randn(D2, D3)\n",
        "a = np.maximum(0, X.dot(W1)).dot(W2)\n",
        "\n",
        "print('Before batch normalization:')\n",
        "print_mean_std(a,axis=0)\n",
        "\n",
        "gamma = np.ones((D3,))\n",
        "beta = np.zeros((D3,))\n",
        "# Means should be close to zero and stds close to one\n",
        "print('After batch normalization (gamma=1, beta=0)')\n",
        "a_norm, _ = batchnorm_forward(a, gamma, beta, {'mode': 'train'})\n",
        "print_mean_std(a_norm,axis=0)\n",
        "\n",
        "gamma = np.asarray([1.0, 2.0, 3.0])\n",
        "beta = np.asarray([11.0, 12.0, 13.0])\n",
        "# Now means should be close to beta and stds close to gamma\n",
        "print('After batch normalization (gamma=', gamma, ', beta=', beta, ')')\n",
        "a_norm, _ = batchnorm_forward(a, gamma, beta, {'mode': 'train'})\n",
        "print_mean_std(a_norm,axis=0)"
      ]
    },
    {
      "cell_type": "code",
      "execution_count": null,
      "id": "adf5ce95",
      "metadata": {
        "id": "adf5ce95",
        "outputId": "14bdb289-65c0-4111-8882-b170d83d233f"
      },
      "outputs": [
        {
          "name": "stdout",
          "output_type": "stream",
          "text": [
            "After batch normalization (test-time):\n",
            "  means:  [-0.03927354 -0.04349152 -0.10452688]\n",
            "  stds:   [1.01531428 1.01238373 0.97819988]\n",
            "\n"
          ]
        }
      ],
      "source": [
        "# Check the test-time forward pass by running the training-time\n",
        "# forward pass many times to warm up the running averages, and then\n",
        "# checking the means and variances of activations after a test-time\n",
        "# forward pass.\n",
        "\n",
        "np.random.seed(231)\n",
        "N, D1, D2, D3 = 200, 50, 60, 3\n",
        "W1 = np.random.randn(D1, D2)\n",
        "W2 = np.random.randn(D2, D3)\n",
        "\n",
        "bn_param = {'mode': 'train'}\n",
        "gamma = np.ones(D3)\n",
        "beta = np.zeros(D3)\n",
        "\n",
        "for t in range(50):\n",
        "    X = np.random.randn(N, D1)\n",
        "    a = np.maximum(0, X.dot(W1)).dot(W2)\n",
        "    batchnorm_forward(a, gamma, beta, bn_param)\n",
        "\n",
        "bn_param['mode'] = 'test'\n",
        "X = np.random.randn(N, D1)\n",
        "a = np.maximum(0, X.dot(W1)).dot(W2)\n",
        "a_norm, _ = batchnorm_forward(a, gamma, beta, bn_param)\n",
        "\n",
        "# Means should be close to zero and stds close to one, but will be\n",
        "# noisier than training-time forward passes.\n",
        "print('After batch normalization (test-time):')\n",
        "print_mean_std(a_norm,axis=0)"
      ]
    },
    {
      "cell_type": "markdown",
      "id": "bce78a13",
      "metadata": {
        "id": "bce78a13"
      },
      "source": [
        "Реализуйте обратный проход в функции batchnorm_backward."
      ]
    },
    {
      "cell_type": "code",
      "execution_count": null,
      "id": "9597ae03",
      "metadata": {
        "id": "9597ae03",
        "outputId": "f6786d2e-f282-49da-b170-a94b9f28b609"
      },
      "outputs": [
        {
          "name": "stdout",
          "output_type": "stream",
          "text": [
            "dx error:  1.6674638948718391e-09\n",
            "dgamma error:  7.417225040694815e-13\n",
            "dbeta error:  2.379446949959628e-12\n"
          ]
        }
      ],
      "source": [
        "# Gradient check batchnorm backward pass\n",
        "np.random.seed(231)\n",
        "N, D = 4, 5\n",
        "x = 5 * np.random.randn(N, D) + 12\n",
        "gamma = np.random.randn(D)\n",
        "beta = np.random.randn(D)\n",
        "dout = np.random.randn(N, D)\n",
        "\n",
        "bn_param = {'mode': 'train'}\n",
        "fx = lambda x: batchnorm_forward(x, gamma, beta, bn_param)[0]\n",
        "fg = lambda a: batchnorm_forward(x, a, beta, bn_param)[0]\n",
        "fb = lambda b: batchnorm_forward(x, gamma, b, bn_param)[0]\n",
        "\n",
        "dx_num = eval_numerical_gradient_array(fx, x, dout)\n",
        "da_num = eval_numerical_gradient_array(fg, gamma.copy(), dout)\n",
        "db_num = eval_numerical_gradient_array(fb, beta.copy(), dout)\n",
        "\n",
        "_, cache = batchnorm_forward(x, gamma, beta, bn_param)\n",
        "dx, dgamma, dbeta = batchnorm_backward(dout, cache)\n",
        "#You should expect to see relative errors between 1e-13 and 1e-8\n",
        "print('dx error: ', rel_error(dx_num, dx))\n",
        "print('dgamma error: ', rel_error(da_num, dgamma))\n",
        "print('dbeta error: ', rel_error(db_num, dbeta))"
      ]
    },
    {
      "cell_type": "markdown",
      "id": "834e72b7",
      "metadata": {
        "id": "834e72b7"
      },
      "source": [
        "Измените реализацию класса FullyConnectedNet, добавив батч-нормализацию. Если флаг normalization == \"batchnorm\", то вам необходимо вставить слой батч-нормализации перед каждым слоем активации ReLU, кроме выхода сети."
      ]
    },
    {
      "cell_type": "code",
      "execution_count": null,
      "id": "ceaaf08c",
      "metadata": {
        "id": "ceaaf08c",
        "outputId": "1f10c0d8-2918-40e6-b283-02d236b7cf13"
      },
      "outputs": [
        {
          "name": "stdout",
          "output_type": "stream",
          "text": [
            "Running check with reg =  0\n",
            "Initial loss:  2.2611955101340957\n",
            "W1 relative error: 1.10e-04\n",
            "W2 relative error: 2.84e-06\n",
            "W3 relative error: 3.02e-10\n",
            "b1 relative error: 2.66e-07\n",
            "b2 relative error: 2.72e-07\n",
            "b3 relative error: 1.01e-10\n",
            "beta1 relative error: 7.33e-09\n",
            "beta2 relative error: 1.89e-09\n",
            "gamma1 relative error: 7.47e-09\n",
            "gamma2 relative error: 2.41e-09\n",
            "\n",
            "Running check with reg =  3.14\n",
            "Initial loss:  6.996533220108303\n",
            "W1 relative error: 1.98e-06\n",
            "W2 relative error: 2.28e-06\n",
            "W3 relative error: 1.11e-08\n",
            "b1 relative error: 1.38e-08\n",
            "b2 relative error: 7.99e-07\n",
            "b3 relative error: 1.73e-10\n",
            "beta1 relative error: 6.32e-09\n",
            "beta2 relative error: 3.48e-09\n",
            "gamma1 relative error: 5.94e-09\n",
            "gamma2 relative error: 5.28e-09\n"
          ]
        }
      ],
      "source": [
        "np.random.seed(231)\n",
        "N, D, H1, H2, C = 2, 15, 20, 30, 10\n",
        "X = np.random.randn(N, D)\n",
        "y = np.random.randint(C, size=(N,))\n",
        "\n",
        "# You should expect losses between 1e-4~1e-10 for W, \n",
        "# losses between 1e-08~1e-10 for b,\n",
        "# and losses between 1e-08~1e-09 for beta and gammas.\n",
        "for reg in [0, 3.14]:\n",
        "    print('Running check with reg = ', reg)\n",
        "    model = FullyConnectedNet([H1, H2], input_dim=D, num_classes=C,\n",
        "                            reg=reg, weight_scale=5e-2, dtype=np.float64,\n",
        "                            normalization='batchnorm')\n",
        "\n",
        "    loss, grads = model.loss(X, y)\n",
        "    print('Initial loss: ', loss)\n",
        "\n",
        "    for name in sorted(grads):\n",
        "        f = lambda _: model.loss(X, y)[0]\n",
        "        grad_num = eval_numerical_gradient(f, model.params[name], verbose=False, h=1e-5)\n",
        "        print('%s relative error: %.2e' % (name, rel_error(grad_num, grads[name])))\n",
        "    if reg == 0: print()"
      ]
    },
    {
      "cell_type": "markdown",
      "id": "ed32975a",
      "metadata": {
        "id": "ed32975a"
      },
      "source": [
        "Обучите 6-ти слойную сеть на наборе из 1000 изображений с батч-нормализацией и без нее"
      ]
    },
    {
      "cell_type": "code",
      "execution_count": null,
      "id": "514ad5e9",
      "metadata": {
        "id": "514ad5e9",
        "outputId": "40e43126-ad7e-4918-87b5-aa66d3ec1d0a"
      },
      "outputs": [
        {
          "name": "stdout",
          "output_type": "stream",
          "text": [
            "Solver with batch norm:\n",
            "(Iteration 1 / 200) loss: 2.340974\n",
            "(Epoch 0 / 10) train acc: 0.107000; val_acc: 0.115000\n",
            "(Epoch 1 / 10) train acc: 0.315000; val_acc: 0.267000\n",
            "(Iteration 21 / 200) loss: 2.039365\n",
            "(Epoch 2 / 10) train acc: 0.386000; val_acc: 0.279000\n",
            "(Iteration 41 / 200) loss: 2.041103\n",
            "(Epoch 3 / 10) train acc: 0.496000; val_acc: 0.307000\n",
            "(Iteration 61 / 200) loss: 1.753903\n",
            "(Epoch 4 / 10) train acc: 0.530000; val_acc: 0.312000\n",
            "(Iteration 81 / 200) loss: 1.246168\n",
            "(Epoch 5 / 10) train acc: 0.587000; val_acc: 0.320000\n",
            "(Iteration 101 / 200) loss: 1.320490\n",
            "(Epoch 6 / 10) train acc: 0.622000; val_acc: 0.328000\n",
            "(Iteration 121 / 200) loss: 1.198439\n",
            "(Epoch 7 / 10) train acc: 0.690000; val_acc: 0.338000\n",
            "(Iteration 141 / 200) loss: 1.072051\n",
            "(Epoch 8 / 10) train acc: 0.724000; val_acc: 0.308000\n",
            "(Iteration 161 / 200) loss: 0.760442\n",
            "(Epoch 9 / 10) train acc: 0.774000; val_acc: 0.317000\n",
            "(Iteration 181 / 200) loss: 0.825194\n",
            "(Epoch 10 / 10) train acc: 0.803000; val_acc: 0.348000\n",
            "\n",
            "Solver without batch norm:\n",
            "(Iteration 1 / 200) loss: 2.302331\n",
            "(Epoch 0 / 10) train acc: 0.129000; val_acc: 0.131000\n",
            "(Epoch 1 / 10) train acc: 0.283000; val_acc: 0.250000\n",
            "(Iteration 21 / 200) loss: 2.041970\n",
            "(Epoch 2 / 10) train acc: 0.316000; val_acc: 0.277000\n",
            "(Iteration 41 / 200) loss: 1.900473\n",
            "(Epoch 3 / 10) train acc: 0.373000; val_acc: 0.282000\n",
            "(Iteration 61 / 200) loss: 1.713156\n",
            "(Epoch 4 / 10) train acc: 0.390000; val_acc: 0.310000\n",
            "(Iteration 81 / 200) loss: 1.662208\n",
            "(Epoch 5 / 10) train acc: 0.434000; val_acc: 0.300000\n",
            "(Iteration 101 / 200) loss: 1.696062\n",
            "(Epoch 6 / 10) train acc: 0.536000; val_acc: 0.346000\n",
            "(Iteration 121 / 200) loss: 1.550785\n",
            "(Epoch 7 / 10) train acc: 0.530000; val_acc: 0.310000\n",
            "(Iteration 141 / 200) loss: 1.436308\n",
            "(Epoch 8 / 10) train acc: 0.622000; val_acc: 0.342000\n",
            "(Iteration 161 / 200) loss: 1.000868\n",
            "(Epoch 9 / 10) train acc: 0.654000; val_acc: 0.328000\n",
            "(Iteration 181 / 200) loss: 0.925455\n",
            "(Epoch 10 / 10) train acc: 0.726000; val_acc: 0.335000\n"
          ]
        }
      ],
      "source": [
        "np.random.seed(231)\n",
        "# Try training a very deep net with batchnorm\n",
        "hidden_dims = [100, 100, 100, 100, 100]\n",
        "\n",
        "num_train = 1000\n",
        "small_data = {\n",
        "  'X_train': data['X_train'][:num_train],\n",
        "  'y_train': data['y_train'][:num_train],\n",
        "  'X_val': data['X_val'],\n",
        "  'y_val': data['y_val'],\n",
        "}\n",
        "\n",
        "weight_scale = 2e-2\n",
        "bn_model = FullyConnectedNet(hidden_dims, weight_scale=weight_scale, normalization='batchnorm')\n",
        "model = FullyConnectedNet(hidden_dims, weight_scale=weight_scale, normalization=None)\n",
        "\n",
        "print('Solver with batch norm:')\n",
        "bn_solver = Solver(bn_model, small_data,\n",
        "                num_epochs=10, batch_size=50,\n",
        "                update_rule='adam',\n",
        "                optim_config={\n",
        "                  'learning_rate': 1e-3,\n",
        "                },\n",
        "                verbose=True,print_every=20)\n",
        "bn_solver.train()\n",
        "\n",
        "print('\\nSolver without batch norm:')\n",
        "solver = Solver(model, small_data,\n",
        "                num_epochs=10, batch_size=50,\n",
        "                update_rule='adam',\n",
        "                optim_config={\n",
        "                  'learning_rate': 1e-3,\n",
        "                },\n",
        "                verbose=True, print_every=20)\n",
        "solver.train()"
      ]
    },
    {
      "cell_type": "markdown",
      "id": "f6da713d",
      "metadata": {
        "id": "f6da713d"
      },
      "source": [
        "Визуализируйте процесс обучения для двух сетей. Увеличилась ли скорость сходимости в случае с батч-нормализацией? Сделайте выводы."
      ]
    },
    {
      "cell_type": "code",
      "execution_count": null,
      "id": "7d0f2fd8",
      "metadata": {
        "id": "7d0f2fd8",
        "outputId": "f86235c5-4609-4c4d-df94-ebe7a7129491"
      },
      "outputs": [
        {
          "data": {
            "image/png": "[encoded data removed]",
            "text/plain": [
              "<Figure size 1080x1080 with 3 Axes>"
            ]
          },
          "metadata": {
            "needs_background": "light"
          },
          "output_type": "display_data"
        }
      ],
      "source": [
        "def plot_training_history(title, label, baseline, bn_solvers, plot_fn, bl_marker='.', bn_marker='.', labels=None):\n",
        "    \"\"\"utility function for plotting training history\"\"\"\n",
        "    plt.title(title)\n",
        "    plt.xlabel(label)\n",
        "    bn_plots = [plot_fn(bn_solver) for bn_solver in bn_solvers]\n",
        "    bl_plot = plot_fn(baseline)\n",
        "    num_bn = len(bn_plots)\n",
        "    for i in range(num_bn):\n",
        "        label='with_norm'\n",
        "        if labels is not None:\n",
        "            label += str(labels[i])\n",
        "        plt.plot(bn_plots[i], bn_marker, label=label)\n",
        "    label='baseline'\n",
        "    if labels is not None:\n",
        "        label += str(labels[0])\n",
        "    plt.plot(bl_plot, bl_marker, label=label)\n",
        "    plt.legend(loc='lower center', ncol=num_bn+1) \n",
        "\n",
        "    \n",
        "plt.subplot(3, 1, 1)\n",
        "plot_training_history('Training loss','Iteration', solver, [bn_solver], \\\n",
        "                      lambda x: x.loss_history, bl_marker='o', bn_marker='o')\n",
        "plt.subplot(3, 1, 2)\n",
        "plot_training_history('Training accuracy','Epoch', solver, [bn_solver], \\\n",
        "                      lambda x: x.train_acc_history, bl_marker='-o', bn_marker='-o')\n",
        "plt.subplot(3, 1, 3)\n",
        "plot_training_history('Validation accuracy','Epoch', solver, [bn_solver], \\\n",
        "                      lambda x: x.val_acc_history, bl_marker='-o', bn_marker='-o')\n",
        "\n",
        "plt.gcf().set_size_inches(15, 15)\n",
        "plt.show()"
      ]
    },
    {
      "cell_type": "markdown",
      "id": "192b7e06",
      "metadata": {
        "id": "192b7e06"
      },
      "source": [
        "Обучите 6-тислойную сеть с батч-нормализацией и без нее, используя разные размеры батча. Визуализируйте графики обучения. Сделайте выводы по результатам эксперимента."
      ]
    },
    {
      "cell_type": "code",
      "execution_count": null,
      "id": "9476d896",
      "metadata": {
        "id": "9476d896",
        "outputId": "78080946-24d1-4d44-f0a3-f151f8c88940"
      },
      "outputs": [
        {
          "name": "stdout",
          "output_type": "stream",
          "text": [
            "No normalization: batch size =  5\n",
            "Normalization: batch size =  5\n",
            "Normalization: batch size =  10\n",
            "Normalization: batch size =  50\n"
          ]
        }
      ],
      "source": [
        "def run_batchsize_experiments(normalization_mode):\n",
        "    np.random.seed(231)\n",
        "    # Try training a very deep net with batchnorm\n",
        "    hidden_dims = [100, 100, 100, 100, 100]\n",
        "    num_train = 1000\n",
        "    small_data = {\n",
        "      'X_train': data['X_train'][:num_train],\n",
        "      'y_train': data['y_train'][:num_train],\n",
        "      'X_val': data['X_val'],\n",
        "      'y_val': data['y_val'],\n",
        "    }\n",
        "    n_epochs=10\n",
        "    weight_scale = 2e-2\n",
        "    batch_sizes = [5,10,50]\n",
        "    lr = 10**(-3.5)\n",
        "    solver_bsize = batch_sizes[0]\n",
        "\n",
        "    print('No normalization: batch size = ',solver_bsize)\n",
        "    model = FullyConnectedNet(hidden_dims, weight_scale=weight_scale, normalization=None)\n",
        "    solver = Solver(model, small_data,\n",
        "                    num_epochs=n_epochs, batch_size=solver_bsize,\n",
        "                    update_rule='adam',\n",
        "                    optim_config={\n",
        "                      'learning_rate': lr,\n",
        "                    },\n",
        "                    verbose=False)\n",
        "    solver.train()\n",
        "    \n",
        "    bn_solvers = []\n",
        "    for i in range(len(batch_sizes)):\n",
        "        b_size=batch_sizes[i]\n",
        "        print('Normalization: batch size = ',b_size)\n",
        "        bn_model = FullyConnectedNet(hidden_dims, weight_scale=weight_scale, normalization=normalization_mode)\n",
        "        bn_solver = Solver(bn_model, small_data,\n",
        "                        num_epochs=n_epochs, batch_size=b_size,\n",
        "                        update_rule='adam',\n",
        "                        optim_config={\n",
        "                          'learning_rate': lr,\n",
        "                        },\n",
        "                        verbose=False)\n",
        "        bn_solver.train()\n",
        "        bn_solvers.append(bn_solver)\n",
        "        \n",
        "    return bn_solvers, solver, batch_sizes\n",
        "\n",
        "batch_sizes = [5,10,50]\n",
        "bn_solvers_bsize, solver_bsize, batch_sizes = run_batchsize_experiments('batchnorm')"
      ]
    },
    {
      "cell_type": "code",
      "execution_count": null,
      "id": "99cb3b77",
      "metadata": {
        "id": "99cb3b77",
        "outputId": "b69285e4-907f-48af-a758-bfa7a70df3bd"
      },
      "outputs": [
        {
          "data": {
            "image/png": "[encoded data removed]",
            "text/plain": [
              "<Figure size 1080x720 with 2 Axes>"
            ]
          },
          "metadata": {
            "needs_background": "light"
          },
          "output_type": "display_data"
        }
      ],
      "source": [
        "plt.subplot(2, 1, 1)\n",
        "plot_training_history('Training accuracy (Batch Normalization)','Epoch', solver_bsize, bn_solvers_bsize, \\\n",
        "                      lambda x: x.train_acc_history, bl_marker='-^', bn_marker='-o', labels=batch_sizes)\n",
        "plt.subplot(2, 1, 2)\n",
        "plot_training_history('Validation accuracy (Batch Normalization)','Epoch', solver_bsize, bn_solvers_bsize, \\\n",
        "                      lambda x: x.val_acc_history, bl_marker='-^', bn_marker='-o', labels=batch_sizes)\n",
        "\n",
        "plt.gcf().set_size_inches(15, 10)\n",
        "plt.show()"
      ]
    },
    {
      "cell_type": "markdown",
      "id": "7f8a66f4",
      "metadata": {
        "id": "7f8a66f4"
      },
      "source": [
        "### 3. Dropout"
      ]
    },
    {
      "cell_type": "markdown",
      "id": "60f726c2",
      "metadata": {
        "id": "60f726c2"
      },
      "source": [
        "Реализуйте прямой проход для dropout-слоя в scripts/layers.py\n",
        "\n",
        "http://cs231n.github.io/neural-networks-2/#reg"
      ]
    },
    {
      "cell_type": "code",
      "execution_count": null,
      "id": "cc0afd50",
      "metadata": {
        "id": "cc0afd50",
        "outputId": "fe88dc84-7086-4d64-bc96-6f7f43926414"
      },
      "outputs": [
        {
          "name": "stdout",
          "output_type": "stream",
          "text": [
            "Running tests with p =  0.25\n",
            "Mean of input:  10.000207878477502\n",
            "Mean of train-time output:  10.014059116977283\n",
            "Mean of test-time output:  10.000207878477502\n",
            "Fraction of train-time output set to zero:  0.749784\n",
            "Fraction of test-time output set to zero:  0.0\n",
            "\n",
            "Running tests with p =  0.4\n",
            "Mean of input:  10.000207878477502\n",
            "Mean of train-time output:  9.977917658761159\n",
            "Mean of test-time output:  10.000207878477502\n",
            "Fraction of train-time output set to zero:  0.600796\n",
            "Fraction of test-time output set to zero:  0.0\n",
            "\n",
            "Running tests with p =  0.7\n",
            "Mean of input:  10.000207878477502\n",
            "Mean of train-time output:  9.987811912159426\n",
            "Mean of test-time output:  10.000207878477502\n",
            "Fraction of train-time output set to zero:  0.30074\n",
            "Fraction of test-time output set to zero:  0.0\n",
            "\n"
          ]
        }
      ],
      "source": [
        "np.random.seed(231)\n",
        "x = np.random.randn(500, 500) + 10\n",
        "\n",
        "for p in [0.25, 0.4, 0.7]:\n",
        "    out, _ = dropout_forward(x, {'mode': 'train', 'p': p})\n",
        "    out_test, _ = dropout_forward(x, {'mode': 'test', 'p': p})\n",
        "\n",
        "    print('Running tests with p = ', p)\n",
        "    print('Mean of input: ', x.mean())\n",
        "    print('Mean of train-time output: ', out.mean())\n",
        "    print('Mean of test-time output: ', out_test.mean())\n",
        "    print('Fraction of train-time output set to zero: ', (out == 0).mean())\n",
        "    print('Fraction of test-time output set to zero: ', (out_test == 0).mean())\n",
        "    print()"
      ]
    },
    {
      "cell_type": "markdown",
      "id": "5d343f65",
      "metadata": {
        "id": "5d343f65"
      },
      "source": [
        "Реализуйте обратный проход для dropout-слоя"
      ]
    },
    {
      "cell_type": "code",
      "execution_count": null,
      "id": "86e2f5f9",
      "metadata": {
        "id": "86e2f5f9",
        "outputId": "df2bac2c-5bde-492d-c2e0-7093e0219c26"
      },
      "outputs": [
        {
          "name": "stdout",
          "output_type": "stream",
          "text": [
            "dx relative error:  5.44560814873387e-11\n"
          ]
        }
      ],
      "source": [
        "np.random.seed(231)\n",
        "x = np.random.randn(10, 10) + 10\n",
        "dout = np.random.randn(*x.shape)\n",
        "\n",
        "dropout_param = {'mode': 'train', 'p': 0.2, 'seed': 123}\n",
        "out, cache = dropout_forward(x, dropout_param)\n",
        "dx = dropout_backward(dout, cache)\n",
        "dx_num = eval_numerical_gradient_array(lambda xx: dropout_forward(xx, dropout_param)[0], x, dout)\n",
        "\n",
        "# Error should be around e-10 or less\n",
        "print('dx relative error: ', rel_error(dx, dx_num))"
      ]
    },
    {
      "cell_type": "markdown",
      "id": "45e33858",
      "metadata": {
        "id": "45e33858"
      },
      "source": [
        "Добавьте в реализацию класса FullyConnectedNet поддержку dropout. Если параметр dropout != 1, то добавьте в модель dropout-слой после каждого слоя активации. Проверьте свою реализацию"
      ]
    },
    {
      "cell_type": "code",
      "execution_count": null,
      "id": "94df70da",
      "metadata": {
        "id": "94df70da",
        "outputId": "460d9f3c-8ac9-400a-88db-9dbfbe242f6f"
      },
      "outputs": [
        {
          "name": "stdout",
          "output_type": "stream",
          "text": [
            "Running check with dropout =  1\n",
            "Initial loss:  2.3004790897684924\n",
            "W1 relative error: 7.70e-08\n",
            "W2 relative error: 1.71e-05\n",
            "W3 relative error: 2.95e-07\n",
            "b1 relative error: 4.66e-09\n",
            "b2 relative error: 2.09e-09\n",
            "b3 relative error: 6.60e-11\n",
            "\n",
            "Running check with dropout =  0.75\n",
            "Initial loss:  2.302371489704412\n",
            "W1 relative error: 1.85e-07\n",
            "W2 relative error: 2.15e-06\n",
            "W3 relative error: 4.56e-08\n",
            "b1 relative error: 1.16e-08\n",
            "b2 relative error: 1.82e-09\n",
            "b3 relative error: 1.40e-10\n",
            "\n",
            "Running check with dropout =  0.5\n",
            "Initial loss:  2.30427592207859\n",
            "W1 relative error: 3.11e-07\n",
            "W2 relative error: 5.55e-08\n",
            "W3 relative error: 6.47e-08\n",
            "b1 relative error: 2.58e-08\n",
            "b2 relative error: 1.91e-09\n",
            "b3 relative error: 9.31e-11\n",
            "\n"
          ]
        }
      ],
      "source": [
        "np.random.seed(231)\n",
        "N, D, H1, H2, C = 2, 15, 20, 30, 10\n",
        "X = np.random.randn(N, D)\n",
        "y = np.random.randint(C, size=(N,))\n",
        "\n",
        "for dropout_keep_ratio in [1, 0.75, 0.5]:\n",
        "    print('Running check with dropout = ', dropout_keep_ratio)\n",
        "    model = FullyConnectedNet(\n",
        "        [H1, H2],\n",
        "        input_dim=D,\n",
        "        num_classes=C,\n",
        "        weight_scale=5e-2,\n",
        "        dtype=np.float64,\n",
        "        dropout_keep_ratio=dropout_keep_ratio,\n",
        "        seed=123\n",
        "    )\n",
        "\n",
        "    loss, grads = model.loss(X, y)\n",
        "    print('Initial loss: ', loss)\n",
        "\n",
        "    # Relative errors should be around e-6 or less.\n",
        "    # Note that it's fine if for dropout_keep_ratio=1 you have W2 error be on the order of e-5.\n",
        "    for name in sorted(grads):\n",
        "        f = lambda _: model.loss(X, y)[0]\n",
        "        grad_num = eval_numerical_gradient(f, model.params[name], verbose=False, h=1e-5)\n",
        "        print('%s relative error: %.2e' % (name, rel_error(grad_num, grads[name])))\n",
        "    print()"
      ]
    },
    {
      "cell_type": "markdown",
      "id": "10a94c0d",
      "metadata": {
        "id": "10a94c0d"
      },
      "source": [
        "Обучите две двухслойные сети с dropout-слоем (вероятность отсева 0,25) и без на наборе из 500 изображений. Визуализируйте графики обучения. Сделайте выводы по результатам эксперимента"
      ]
    },
    {
      "cell_type": "code",
      "execution_count": null,
      "id": "cef2151e",
      "metadata": {
        "id": "cef2151e",
        "outputId": "d7e4b7ab-349f-42db-94c2-176bfaaabfba"
      },
      "outputs": [
        {
          "name": "stdout",
          "output_type": "stream",
          "text": [
            "1\n",
            "\n",
            "0.75\n",
            "\n",
            "0.5\n",
            "\n",
            "0.25\n",
            "\n"
          ]
        }
      ],
      "source": [
        "# Train two identical nets, one with dropout and one without\n",
        "np.random.seed(231)\n",
        "num_train = 500\n",
        "small_data = {\n",
        "    'X_train': data['X_train'][:num_train],\n",
        "    'y_train': data['y_train'][:num_train],\n",
        "    'X_val': data['X_val'],\n",
        "    'y_val': data['y_val'],\n",
        "}\n",
        "\n",
        "solvers = {}\n",
        "dropout_choices = [1, 0.75, 0.50, 0.25]\n",
        " \n",
        "for dropout_keep_ratio in dropout_choices:\n",
        "    model = FullyConnectedNet(\n",
        "        [500],\n",
        "        dropout_keep_ratio=dropout_keep_ratio\n",
        "    )\n",
        "    print(dropout_keep_ratio)\n",
        "\n",
        "    solver = Solver(\n",
        "        model,\n",
        "        small_data,\n",
        "        num_epochs=25,\n",
        "        batch_size=100,\n",
        "        update_rule='adam',\n",
        "        optim_config={'learning_rate': 1e-4,},\n",
        "        verbose=False,\n",
        "        print_every=100\n",
        "    )\n",
        "    solver.train()\n",
        "    solvers[dropout_keep_ratio] = solver\n",
        "    print()"
      ]
    },
    {
      "cell_type": "code",
      "execution_count": null,
      "id": "02505d78",
      "metadata": {
        "id": "02505d78",
        "outputId": "c5a9397f-2351-42ce-d16e-e99b0296d5e0"
      },
      "outputs": [
        {
          "data": {
            "image/png": "[encoded data removed]",
            "text/plain": [
              "<Figure size 1080x1080 with 2 Axes>"
            ]
          },
          "metadata": {
            "needs_background": "light"
          },
          "output_type": "display_data"
        }
      ],
      "source": [
        "# Plot train and validation accuracies of the two models\n",
        "\n",
        "train_accs = []\n",
        "val_accs = []\n",
        "for dropout_keep_ratio in dropout_choices:\n",
        "    solver = solvers[dropout_keep_ratio]\n",
        "    train_accs.append(solver.train_acc_history[-1])\n",
        "    val_accs.append(solver.val_acc_history[-1])\n",
        "\n",
        "plt.subplot(3, 1, 1)\n",
        "for dropout_keep_ratio in dropout_choices:\n",
        "    plt.plot(\n",
        "        solvers[dropout_keep_ratio].train_acc_history, 'o', label='%.2f dropout_keep_ratio' % dropout_keep_ratio)\n",
        "plt.title('Train accuracy')\n",
        "plt.xlabel('Epoch')\n",
        "plt.ylabel('Accuracy')\n",
        "plt.legend(ncol=2, loc='lower right')\n",
        "  \n",
        "plt.subplot(3, 1, 2)\n",
        "for dropout_keep_ratio in dropout_choices:\n",
        "    plt.plot(\n",
        "        solvers[dropout_keep_ratio].val_acc_history, 'o', label='%.2f dropout_keep_ratio' % dropout_keep_ratio)\n",
        "plt.title('Val accuracy')\n",
        "plt.xlabel('Epoch')\n",
        "plt.ylabel('Accuracy')\n",
        "plt.legend(ncol=2, loc='lower right')\n",
        "\n",
        "plt.gcf().set_size_inches(15, 15)\n",
        "plt.show()"
      ]
    },
    {
      "cell_type": "markdown",
      "id": "7750b81a",
      "metadata": {
        "id": "7750b81a"
      },
      "source": [
        "### 4. Сверточные нейронные сети (CNN)"
      ]
    },
    {
      "cell_type": "markdown",
      "id": "4d32dfa9",
      "metadata": {
        "id": "4d32dfa9"
      },
      "source": [
        "Реализуйте прямой проход для сверточного слоя - функция conv_forward_naive в scripts/layers.py юПроверьте свою реализацию, запустив код ниже"
      ]
    },
    {
      "cell_type": "code",
      "execution_count": null,
      "id": "2674f4f5",
      "metadata": {
        "id": "2674f4f5",
        "outputId": "e1e3928c-60dd-4076-e5c5-b66a21a1bab2"
      },
      "outputs": [
        {
          "name": "stdout",
          "output_type": "stream",
          "text": [
            "Testing conv_forward_naive\n",
            "difference:  2.2121476417505994e-08\n"
          ]
        }
      ],
      "source": [
        "x_shape = (2, 3, 4, 4)\n",
        "w_shape = (3, 3, 4, 4)\n",
        "x = np.linspace(-0.1, 0.5, num=np.prod(x_shape)).reshape(x_shape)\n",
        "w = np.linspace(-0.2, 0.3, num=np.prod(w_shape)).reshape(w_shape)\n",
        "b = np.linspace(-0.1, 0.2, num=3)\n",
        "\n",
        "conv_param = {'stride': 2, 'pad': 1}\n",
        "out, _ = conv_forward_naive(x, w, b, conv_param)\n",
        "correct_out = np.array([[[[-0.08759809, -0.10987781],\n",
        "                           [-0.18387192, -0.2109216 ]],\n",
        "                          [[ 0.21027089,  0.21661097],\n",
        "                           [ 0.22847626,  0.23004637]],\n",
        "                          [[ 0.50813986,  0.54309974],\n",
        "                           [ 0.64082444,  0.67101435]]],\n",
        "                         [[[-0.98053589, -1.03143541],\n",
        "                           [-1.19128892, -1.24695841]],\n",
        "                          [[ 0.69108355,  0.66880383],\n",
        "                           [ 0.59480972,  0.56776003]],\n",
        "                          [[ 2.36270298,  2.36904306],\n",
        "                           [ 2.38090835,  2.38247847]]]])\n",
        "\n",
        "# Compare your output to ours; difference should be around e-8\n",
        "print('Testing conv_forward_naive')\n",
        "print('difference: ', rel_error(out, correct_out))"
      ]
    },
    {
      "cell_type": "markdown",
      "id": "890b8fd0",
      "metadata": {
        "id": "890b8fd0"
      },
      "source": [
        "Реализуйте обратный проход - функция conv_backward_naive в scripts/layers.py"
      ]
    },
    {
      "cell_type": "code",
      "execution_count": null,
      "id": "c71377f1",
      "metadata": {
        "id": "c71377f1",
        "outputId": "692a285b-d15a-4d64-9787-091b6f3df451"
      },
      "outputs": [
        {
          "name": "stdout",
          "output_type": "stream",
          "text": [
            "Testing conv_backward_naive function\n",
            "dx error:  1.159803161159293e-08\n",
            "dw error:  2.2471264748452487e-10\n",
            "db error:  3.37264006649648e-11\n"
          ]
        }
      ],
      "source": [
        "np.random.seed(231)\n",
        "x = np.random.randn(4, 3, 5, 5)\n",
        "w = np.random.randn(2, 3, 3, 3)\n",
        "b = np.random.randn(2,)\n",
        "dout = np.random.randn(4, 2, 5, 5)\n",
        "conv_param = {'stride': 1, 'pad': 1}\n",
        "\n",
        "dx_num = eval_numerical_gradient_array(lambda x: conv_forward_naive(x, w, b, conv_param)[0], x, dout)\n",
        "dw_num = eval_numerical_gradient_array(lambda w: conv_forward_naive(x, w, b, conv_param)[0], w, dout)\n",
        "db_num = eval_numerical_gradient_array(lambda b: conv_forward_naive(x, w, b, conv_param)[0], b, dout)\n",
        "\n",
        "out, cache = conv_forward_naive(x, w, b, conv_param)\n",
        "dx, dw, db = conv_backward_naive(dout, cache)\n",
        "\n",
        "# Your errors should be around e-8 or less.\n",
        "print('Testing conv_backward_naive function')\n",
        "print('dx error: ', rel_error(dx, dx_num))\n",
        "print('dw error: ', rel_error(dw, dw_num))\n",
        "print('db error: ', rel_error(db, db_num))"
      ]
    },
    {
      "cell_type": "markdown",
      "id": "c78723a5",
      "metadata": {
        "id": "c78723a5"
      },
      "source": [
        "Реализуйте прямой проход для max-pooling слоя -функция max_pool_forward_naive в scripts/layers.py"
      ]
    },
    {
      "cell_type": "code",
      "execution_count": null,
      "id": "41ac43d3",
      "metadata": {
        "id": "41ac43d3",
        "outputId": "5ea19c80-fab3-4e24-e266-69138a5d7558"
      },
      "outputs": [
        {
          "name": "stdout",
          "output_type": "stream",
          "text": [
            "Testing max_pool_forward_naive function:\n",
            "difference:  4.1666665157267834e-08\n"
          ]
        }
      ],
      "source": [
        "x_shape = (2, 3, 4, 4)\n",
        "x = np.linspace(-0.3, 0.4, num=np.prod(x_shape)).reshape(x_shape)\n",
        "pool_param = {'pool_width': 2, 'pool_height': 2, 'stride': 2}\n",
        "\n",
        "out, _ = max_pool_forward_naive(x, pool_param)\n",
        "\n",
        "correct_out = np.array([[[[-0.26315789, -0.24842105],\n",
        "                          [-0.20421053, -0.18947368]],\n",
        "                         [[-0.14526316, -0.13052632],\n",
        "                          [-0.08631579, -0.07157895]],\n",
        "                         [[-0.02736842, -0.01263158],\n",
        "                          [ 0.03157895,  0.04631579]]],\n",
        "                        [[[ 0.09052632,  0.10526316],\n",
        "                          [ 0.14947368,  0.16421053]],\n",
        "                         [[ 0.20842105,  0.22315789],\n",
        "                          [ 0.26736842,  0.28210526]],\n",
        "                         [[ 0.32631579,  0.34105263],\n",
        "                          [ 0.38526316,  0.4       ]]]])\n",
        "\n",
        "# Compare your output with ours. Difference should be on the order of e-8.\n",
        "print('Testing max_pool_forward_naive function:')\n",
        "print('difference: ', rel_error(out, correct_out))"
      ]
    },
    {
      "cell_type": "markdown",
      "id": "a808da61",
      "metadata": {
        "id": "a808da61"
      },
      "source": [
        "Реализуйте обратный проход для max-pooling слоя в max_pool_backward_naive ."
      ]
    },
    {
      "cell_type": "code",
      "execution_count": null,
      "id": "37e04f8c",
      "metadata": {
        "id": "37e04f8c",
        "outputId": "0d4b522b-5cba-4cce-86ea-bf43424dd6aa"
      },
      "outputs": [
        {
          "name": "stdout",
          "output_type": "stream",
          "text": [
            "Testing max_pool_backward_naive function:\n",
            "dx error:  3.27562514223145e-12\n"
          ]
        }
      ],
      "source": [
        "np.random.seed(231)\n",
        "x = np.random.randn(3, 2, 8, 8)\n",
        "dout = np.random.randn(3, 2, 4, 4)\n",
        "pool_param = {'pool_height': 2, 'pool_width': 2, 'stride': 2}\n",
        "\n",
        "dx_num = eval_numerical_gradient_array(lambda x: max_pool_forward_naive(x, pool_param)[0], x, dout)\n",
        "\n",
        "out, cache = max_pool_forward_naive(x, pool_param)\n",
        "dx = max_pool_backward_naive(dout, cache)\n",
        "\n",
        "# Your error should be on the order of e-12\n",
        "print('Testing max_pool_backward_naive function:')\n",
        "print('dx error: ', rel_error(dx, dx_num))"
      ]
    },
    {
      "cell_type": "markdown",
      "id": "159e316d",
      "metadata": {
        "id": "159e316d"
      },
      "source": [
        "В скрипте scripts/fast_layers.py представлены быстрые реализации слоев свертки и пуллинга, написанных с использованием Cython.\n",
        "\n",
        "Для компиляции выполните следующую команду в директории scripts\n",
        "\n",
        "python setup.py build_ext --inplace\n",
        "Сравните ваши реализации слоев свертки и пуллинга с быстрыми реализациями."
      ]
    },
    {
      "cell_type": "code",
      "execution_count": null,
      "id": "cf95c86a",
      "metadata": {
        "id": "cf95c86a"
      },
      "outputs": [],
      "source": [
        "#os.chdir('C:\\\\Users\\\\Ershov\\\\14 Deep Learning\\\\Lab 3\\\\scripts')\n",
        "\n",
        "#!python setup.py build_ext --inplace\n",
        "\n",
        "#os.chdir('C:\\\\Users\\\\Ershov\\\\14 Deep Learning\\\\Lab 3')\n",
        "#os.getcwd()"
      ]
    },
    {
      "cell_type": "code",
      "execution_count": null,
      "id": "7edfd2f1",
      "metadata": {
        "id": "7edfd2f1",
        "outputId": "3e3ebd13-6afd-4c31-d2e5-9e5a8f15db89"
      },
      "outputs": [
        {
          "name": "stdout",
          "output_type": "stream",
          "text": [
            "Testing conv_forward_fast:\n",
            "Naive: 0.248523s\n",
            "Fast: 0.004997s\n",
            "Speedup: 49.734195x\n",
            "Difference:  1.970563140655889e-11\n",
            "\n",
            "Testing conv_backward_fast:\n",
            "Naive: 6.870676s\n",
            "Fast: 0.014170s\n",
            "Speedup: 484.877139x\n",
            "dx difference:  8.875097157270652e-12\n",
            "dw difference:  5.155328198574655e-13\n",
            "db difference:  0.0\n"
          ]
        }
      ],
      "source": [
        "# Rel errors should be around e-9 or less\n",
        "\n",
        "from scripts.fast_layers import conv_forward_fast, conv_backward_fast\n",
        "from time import time\n",
        "\n",
        "np.random.seed(231)\n",
        "x = np.random.randn(100, 3, 31, 31)\n",
        "w = np.random.randn(25, 3, 3, 3)\n",
        "b = np.random.randn(25,)\n",
        "dout = np.random.randn(100, 25, 16, 16)\n",
        "conv_param = {'stride': 2, 'pad': 1}\n",
        "\n",
        "t0 = time()\n",
        "out_naive, cache_naive = conv_forward_naive(x, w, b, conv_param)\n",
        "t1 = time()\n",
        "out_fast, cache_fast = conv_forward_fast(x, w, b, conv_param)\n",
        "t2 = time()\n",
        "\n",
        "print('Testing conv_forward_fast:')\n",
        "print('Naive: %fs' % (t1 - t0))\n",
        "print('Fast: %fs' % (t2 - t1))\n",
        "print('Speedup: %fx' % ((t1 - t0) / (t2 - t1)))\n",
        "print('Difference: ', rel_error(out_naive, out_fast))\n",
        "\n",
        "\n",
        "t0 = time()\n",
        "dx_naive, dw_naive, db_naive = conv_backward_naive(dout, cache_naive)\n",
        "t1 = time()\n",
        "dx_fast, dw_fast, db_fast = conv_backward_fast(dout, cache_fast)\n",
        "t2 = time()\n",
        "\n",
        "print('\\nTesting conv_backward_fast:')\n",
        "print('Naive: %fs' % (t1 - t0))\n",
        "print('Fast: %fs' % (t2 - t1))\n",
        "print('Speedup: %fx' % ((t1 - t0) / (t2 - t1)))\n",
        "print('dx difference: ', rel_error(dx_naive, dx_fast))\n",
        "print('dw difference: ', rel_error(dw_naive, dw_fast))\n",
        "print('db difference: ', rel_error(db_naive, db_fast))"
      ]
    },
    {
      "cell_type": "code",
      "execution_count": null,
      "id": "58f92bca",
      "metadata": {
        "id": "58f92bca",
        "outputId": "2c89a7cf-1763-43ad-a2dd-3c607a717a80"
      },
      "outputs": [
        {
          "name": "stdout",
          "output_type": "stream",
          "text": [
            "Testing conv_forward_fast:\n",
            "Naive: 0.251486s\n",
            "Fast: 0.005002s\n",
            "Speedup: 50.276835x\n",
            "Difference:  1.970563140655889e-11\n"
          ]
        }
      ],
      "source": [
        "# Rel errors should be around e-9 or less\n",
        "\n",
        "from scripts.fast_layers import conv_forward_fast, conv_backward_fast\n",
        "from time import time\n",
        "\n",
        "np.random.seed(231)\n",
        "x = np.random.randn(100, 3, 31, 31)\n",
        "w = np.random.randn(25, 3, 3, 3)\n",
        "b = np.random.randn(25,)\n",
        "dout = np.random.randn(100, 25, 16, 16)\n",
        "conv_param = {'stride': 2, 'pad': 1}\n",
        "\n",
        "t0 = time()\n",
        "out_naive, cache_naive = conv_forward_naive(x, w, b, conv_param)\n",
        "t1 = time()\n",
        "out_fast, cache_fast = conv_forward_fast(x, w, b, conv_param)\n",
        "t2 = time()\n",
        "\n",
        "print('Testing conv_forward_fast:')\n",
        "print('Naive: %fs' % (t1 - t0))\n",
        "print('Fast: %fs' % (t2 - t1))\n",
        "print('Speedup: %fx' % ((t1 - t0) / (t2 - t1)))\n",
        "print('Difference: ', rel_error(out_naive, out_fast))\n"
      ]
    },
    {
      "cell_type": "code",
      "execution_count": null,
      "id": "23798e9c",
      "metadata": {
        "id": "23798e9c",
        "outputId": "02188437-6563-4b55-b1a4-e6945793cca5"
      },
      "outputs": [
        {
          "name": "stdout",
          "output_type": "stream",
          "text": [
            "\n",
            "Testing conv_backward_fast:\n",
            "Naive: 7.606370s\n",
            "Fast: 0.006000s\n",
            "Speedup: 1267.769919x\n",
            "dx difference:  8.875097157270652e-12\n",
            "dw difference:  5.155328198574655e-13\n",
            "db difference:  0.0\n"
          ]
        }
      ],
      "source": [
        "t0 = time()\n",
        "dx_naive, dw_naive, db_naive = conv_backward_naive(dout, cache_naive)\n",
        "t1 = time()\n",
        "dx_fast, dw_fast, db_fast = conv_backward_fast(dout, cache_fast)\n",
        "t2 = time()\n",
        "\n",
        "print('\\nTesting conv_backward_fast:')\n",
        "print('Naive: %fs' % (t1 - t0))\n",
        "print('Fast: %fs' % (t2 - t1))\n",
        "print('Speedup: %fx' % ((t1 - t0) / (t2 - t1)))\n",
        "print('dx difference: ', rel_error(dx_naive, dx_fast))\n",
        "print('dw difference: ', rel_error(dw_naive, dw_fast))\n",
        "print('db difference: ', rel_error(db_naive, db_fast))"
      ]
    },
    {
      "cell_type": "code",
      "execution_count": null,
      "id": "5ce08489",
      "metadata": {
        "id": "5ce08489",
        "outputId": "82ca9d27-f208-4d27-d5c0-40e14df76374"
      },
      "outputs": [
        {
          "name": "stdout",
          "output_type": "stream",
          "text": [
            "Testing pool_forward_fast:\n",
            "Naive: 0.007998s\n",
            "fast: 0.006000s\n",
            "speedup: 1.333029x\n",
            "difference:  0.0\n",
            "\n",
            "Testing pool_backward_fast:\n",
            "Naive: 0.518781s\n",
            "fast: 0.008516s\n",
            "speedup: 60.916125x\n",
            "dx difference:  0.0\n"
          ]
        }
      ],
      "source": [
        "# Relative errors should be close to 0.0\n",
        "from scripts.fast_layers import max_pool_forward_fast, max_pool_backward_fast\n",
        "np.random.seed(231)\n",
        "x = np.random.randn(100, 3, 32, 32)\n",
        "dout = np.random.randn(100, 3, 16, 16)\n",
        "pool_param = {'pool_height': 2, 'pool_width': 2, 'stride': 2}\n",
        "\n",
        "t0 = time()\n",
        "out_naive, cache_naive = max_pool_forward_naive(x, pool_param)\n",
        "t1 = time()\n",
        "out_fast, cache_fast = max_pool_forward_fast(x, pool_param)\n",
        "t2 = time()\n",
        "\n",
        "print('Testing pool_forward_fast:')\n",
        "print('Naive: %fs' % (t1 - t0))\n",
        "print('fast: %fs' % (t2 - t1))\n",
        "print('speedup: %fx' % ((t1 - t0) / (t2 - t1)))\n",
        "print('difference: ', rel_error(out_naive, out_fast))\n",
        "\n",
        "t0 = time()\n",
        "dx_naive = max_pool_backward_naive(dout, cache_naive)\n",
        "t1 = time()\n",
        "dx_fast = max_pool_backward_fast(dout, cache_fast)\n",
        "t2 = time()\n",
        "\n",
        "print('\\nTesting pool_backward_fast:')\n",
        "print('Naive: %fs' % (t1 - t0))\n",
        "print('fast: %fs' % (t2 - t1))\n",
        "print('speedup: %fx' % ((t1 - t0) / (t2 - t1)))\n",
        "print('dx difference: ', rel_error(dx_naive, dx_fast))"
      ]
    },
    {
      "cell_type": "markdown",
      "id": "d7871f9f",
      "metadata": {
        "id": "d7871f9f"
      },
      "source": [
        "В layer_utils.py вы можете найти часто используемые комбинации слоев, используемых в сверточных сетях. Ознакомьтесь с ними и запустите код ниже для проверки их работы"
      ]
    },
    {
      "cell_type": "code",
      "execution_count": null,
      "id": "c27efe09",
      "metadata": {
        "id": "c27efe09",
        "outputId": "b3a34b17-12f9-4397-e1ed-764e31233455"
      },
      "outputs": [
        {
          "name": "stdout",
          "output_type": "stream",
          "text": [
            "Testing conv_relu_pool\n",
            "dx error:  9.591132621921372e-09\n",
            "dw error:  5.802401370096438e-09\n",
            "db error:  1.0146343411762047e-09\n"
          ]
        }
      ],
      "source": [
        "from scripts.layer_utils import conv_relu_pool_forward, conv_relu_pool_backward\n",
        "np.random.seed(231)\n",
        "x = np.random.randn(2, 3, 16, 16)\n",
        "w = np.random.randn(3, 3, 3, 3)\n",
        "b = np.random.randn(3,)\n",
        "dout = np.random.randn(2, 3, 8, 8)\n",
        "conv_param = {'stride': 1, 'pad': 1}\n",
        "pool_param = {'pool_height': 2, 'pool_width': 2, 'stride': 2}\n",
        "\n",
        "out, cache = conv_relu_pool_forward(x, w, b, conv_param, pool_param)\n",
        "dx, dw, db = conv_relu_pool_backward(dout, cache)\n",
        "\n",
        "dx_num = eval_numerical_gradient_array(lambda x: conv_relu_pool_forward(x, w, b, conv_param, pool_param)[0], x, dout)\n",
        "dw_num = eval_numerical_gradient_array(lambda w: conv_relu_pool_forward(x, w, b, conv_param, pool_param)[0], w, dout)\n",
        "db_num = eval_numerical_gradient_array(lambda b: conv_relu_pool_forward(x, w, b, conv_param, pool_param)[0], b, dout)\n",
        "\n",
        "# Relative errors should be around e-8 or less\n",
        "print('Testing conv_relu_pool')\n",
        "print('dx error: ', rel_error(dx_num, dx))\n",
        "print('dw error: ', rel_error(dw_num, dw))\n",
        "print('db error: ', rel_error(db_num, db))"
      ]
    },
    {
      "cell_type": "code",
      "execution_count": null,
      "id": "b8aeadb7",
      "metadata": {
        "id": "b8aeadb7",
        "outputId": "77f28d69-bfa2-4ec5-9a2c-6e7f036905ce"
      },
      "outputs": [
        {
          "name": "stdout",
          "output_type": "stream",
          "text": [
            "Testing conv_relu:\n",
            "dx error:  1.5218619980349303e-09\n",
            "dw error:  2.702022646099404e-10\n",
            "db error:  1.451272393591721e-10\n"
          ]
        }
      ],
      "source": [
        "from scripts.layer_utils import conv_relu_forward, conv_relu_backward\n",
        "np.random.seed(231)\n",
        "x = np.random.randn(2, 3, 8, 8)\n",
        "w = np.random.randn(3, 3, 3, 3)\n",
        "b = np.random.randn(3,)\n",
        "dout = np.random.randn(2, 3, 8, 8)\n",
        "conv_param = {'stride': 1, 'pad': 1}\n",
        "\n",
        "out, cache = conv_relu_forward(x, w, b, conv_param)\n",
        "dx, dw, db = conv_relu_backward(dout, cache)\n",
        "\n",
        "dx_num = eval_numerical_gradient_array(lambda x: conv_relu_forward(x, w, b, conv_param)[0], x, dout)\n",
        "dw_num = eval_numerical_gradient_array(lambda w: conv_relu_forward(x, w, b, conv_param)[0], w, dout)\n",
        "db_num = eval_numerical_gradient_array(lambda b: conv_relu_forward(x, w, b, conv_param)[0], b, dout)\n",
        "\n",
        "# Relative errors should be around e-8 or less\n",
        "print('Testing conv_relu:')\n",
        "print('dx error: ', rel_error(dx_num, dx))\n",
        "print('dw error: ', rel_error(dw_num, dw))\n",
        "print('db error: ', rel_error(db_num, db))"
      ]
    },
    {
      "cell_type": "markdown",
      "id": "0ae58cb6",
      "metadata": {
        "id": "0ae58cb6"
      },
      "source": [
        "Напишите реализацию класса ThreeLayerConvNet в scripts/classifiers/cnn.py . Вы можете использовать готовые реализации слоев и их комбинаций.\n",
        "\n",
        "Проверьте вашу реализацию. Ожидается, что значение функции потерь softmax будет порядка log(C) для C классов для случая без регуляризации. В случае регуляризации значение функции потерь должно немного возрасти."
      ]
    },
    {
      "cell_type": "code",
      "execution_count": null,
      "id": "e0fbf5b6",
      "metadata": {
        "id": "e0fbf5b6",
        "outputId": "d031aca1-5e13-4dd2-a252-324ca000b5fe"
      },
      "outputs": [
        {
          "name": "stdout",
          "output_type": "stream",
          "text": [
            "Initial loss (no regularization):  2.302586078643799\n",
            "Initial loss (with regularization):  2.5082556430716068\n"
          ]
        }
      ],
      "source": [
        "model = ThreeLayerConvNet()\n",
        "\n",
        "N = 50\n",
        "X = np.random.randn(N, 3, 32, 32)\n",
        "y = np.random.randint(10, size=N)\n",
        "\n",
        "loss, grads = model.loss(X, y)\n",
        "print('Initial loss (no regularization): ', loss)\n",
        "\n",
        "model.reg = 0.5\n",
        "loss, grads = model.loss(X, y)\n",
        "print('Initial loss (with regularization): ', loss)"
      ]
    },
    {
      "cell_type": "markdown",
      "id": "067b1b16",
      "metadata": {
        "id": "067b1b16"
      },
      "source": [
        "Проверьте реализацию обратного прохода"
      ]
    },
    {
      "cell_type": "code",
      "execution_count": null,
      "id": "ea4ff4c4",
      "metadata": {
        "id": "ea4ff4c4",
        "outputId": "f54e9ab9-1b90-4d91-aaed-30534a645070"
      },
      "outputs": [
        {
          "name": "stdout",
          "output_type": "stream",
          "text": [
            "W1 max relative error: 4.076677e-04\n",
            "W2 max relative error: 1.493310e-02\n",
            "W3 max relative error: 3.422460e-04\n",
            "b1 max relative error: 3.397321e-06\n",
            "b2 max relative error: 2.517459e-03\n",
            "b3 max relative error: 1.007692e-09\n"
          ]
        }
      ],
      "source": [
        "num_inputs = 2\n",
        "input_dim = (3, 16, 16)\n",
        "reg = 0.0\n",
        "num_classes = 10\n",
        "np.random.seed(231)\n",
        "X = np.random.randn(num_inputs, *input_dim)\n",
        "y = np.random.randint(num_classes, size=num_inputs)\n",
        "\n",
        "model = ThreeLayerConvNet(num_filters=3, filter_size=3,\n",
        "                          input_dim=input_dim, hidden_dim=7,\n",
        "                          dtype=np.float64)\n",
        "loss, grads = model.loss(X, y)\n",
        "# Errors should be small, but correct implementations may have\n",
        "# relative errors up to the order of e-2\n",
        "for param_name in sorted(grads):\n",
        "    f = lambda _: model.loss(X, y)[0]\n",
        "    param_grad_num = eval_numerical_gradient(f, model.params[param_name], verbose=False, h=1e-6)\n",
        "    e = rel_error(param_grad_num, grads[param_name])\n",
        "    print('%s max relative error: %e' % (param_name, rel_error(param_grad_num, grads[param_name])))"
      ]
    },
    {
      "cell_type": "markdown",
      "id": "80d65761",
      "metadata": {
        "id": "80d65761"
      },
      "source": [
        "Попробуйте добиться эффекта переобучения. Обучите модель на небольшом наборе данных.Сравните значения accuracy на обучающих данных и на валидационных. Визуализируйте графики обучения"
      ]
    },
    {
      "cell_type": "code",
      "execution_count": null,
      "id": "d1a06db3",
      "metadata": {
        "id": "d1a06db3",
        "outputId": "24050b53-497d-44a9-c5cd-87ed4f99857d"
      },
      "outputs": [
        {
          "name": "stdout",
          "output_type": "stream",
          "text": [
            "(Iteration 1 / 30) loss: 2.414060\n",
            "(Epoch 0 / 15) train acc: 0.200000; val_acc: 0.137000\n",
            "(Iteration 2 / 30) loss: 3.102925\n",
            "(Epoch 1 / 15) train acc: 0.140000; val_acc: 0.087000\n",
            "(Iteration 3 / 30) loss: 2.270330\n",
            "(Iteration 4 / 30) loss: 2.096705\n",
            "(Epoch 2 / 15) train acc: 0.240000; val_acc: 0.094000\n",
            "(Iteration 5 / 30) loss: 1.838881\n",
            "(Iteration 6 / 30) loss: 1.934211\n",
            "(Epoch 3 / 15) train acc: 0.510000; val_acc: 0.173000\n",
            "(Iteration 7 / 30) loss: 1.827939\n",
            "(Iteration 8 / 30) loss: 1.639717\n",
            "(Epoch 4 / 15) train acc: 0.520000; val_acc: 0.188000\n",
            "(Iteration 9 / 30) loss: 1.330508\n",
            "(Iteration 10 / 30) loss: 1.756934\n",
            "(Epoch 5 / 15) train acc: 0.630000; val_acc: 0.167000\n",
            "(Iteration 11 / 30) loss: 1.024057\n",
            "(Iteration 12 / 30) loss: 1.041376\n",
            "(Epoch 6 / 15) train acc: 0.750000; val_acc: 0.230000\n",
            "(Iteration 13 / 30) loss: 1.143085\n",
            "(Iteration 14 / 30) loss: 0.835164\n",
            "(Epoch 7 / 15) train acc: 0.790000; val_acc: 0.248000\n",
            "(Iteration 15 / 30) loss: 0.588285\n",
            "(Iteration 16 / 30) loss: 0.645929\n",
            "(Epoch 8 / 15) train acc: 0.820000; val_acc: 0.252000\n",
            "(Iteration 17 / 30) loss: 0.784970\n",
            "(Iteration 18 / 30) loss: 0.465370\n",
            "(Epoch 9 / 15) train acc: 0.820000; val_acc: 0.177000\n",
            "(Iteration 19 / 30) loss: 0.435707\n",
            "(Iteration 20 / 30) loss: 0.655468\n",
            "(Epoch 10 / 15) train acc: 0.900000; val_acc: 0.205000\n",
            "(Iteration 21 / 30) loss: 0.356708\n",
            "(Iteration 22 / 30) loss: 0.282705\n",
            "(Epoch 11 / 15) train acc: 0.820000; val_acc: 0.202000\n",
            "(Iteration 23 / 30) loss: 0.482854\n",
            "(Iteration 24 / 30) loss: 0.525160\n",
            "(Epoch 12 / 15) train acc: 0.910000; val_acc: 0.212000\n",
            "(Iteration 25 / 30) loss: 0.111938\n",
            "(Iteration 26 / 30) loss: 0.142774\n",
            "(Epoch 13 / 15) train acc: 0.950000; val_acc: 0.212000\n",
            "(Iteration 27 / 30) loss: 0.154702\n",
            "(Iteration 28 / 30) loss: 0.144647\n",
            "(Epoch 14 / 15) train acc: 0.960000; val_acc: 0.203000\n",
            "(Iteration 29 / 30) loss: 0.170695\n",
            "(Iteration 30 / 30) loss: 0.125864\n",
            "(Epoch 15 / 15) train acc: 0.990000; val_acc: 0.220000\n"
          ]
        }
      ],
      "source": [
        "np.random.seed(231)\n",
        "\n",
        "num_train = 100\n",
        "small_data = {\n",
        "  'X_train': data['X_train'][:num_train],\n",
        "  'y_train': data['y_train'][:num_train],\n",
        "  'X_val': data['X_val'],\n",
        "  'y_val': data['y_val'],\n",
        "}\n",
        "\n",
        "model = ThreeLayerConvNet(weight_scale=1e-2)\n",
        "\n",
        "solver = Solver(model, small_data,\n",
        "                num_epochs=15, batch_size=50,\n",
        "                update_rule='adam',\n",
        "                optim_config={\n",
        "                  'learning_rate': 1e-3,\n",
        "                },\n",
        "                verbose=True, print_every=1)\n",
        "solver.train()"
      ]
    },
    {
      "cell_type": "code",
      "execution_count": null,
      "id": "9db8b404",
      "metadata": {
        "id": "9db8b404",
        "outputId": "faa5a395-ec07-4491-ea5c-d821e35538c1"
      },
      "outputs": [
        {
          "name": "stdout",
          "output_type": "stream",
          "text": [
            "Small data training accuracy: 0.82\n"
          ]
        }
      ],
      "source": [
        "# Print final training accuracy\n",
        "print(\n",
        "    \"Small data training accuracy:\",\n",
        "    solver.check_accuracy(small_data['X_train'], small_data['y_train'])\n",
        ")"
      ]
    },
    {
      "cell_type": "code",
      "execution_count": null,
      "id": "26f82eb0",
      "metadata": {
        "id": "26f82eb0",
        "outputId": "132d7e0c-46fd-4674-8cce-9088903c4251"
      },
      "outputs": [
        {
          "name": "stdout",
          "output_type": "stream",
          "text": [
            "Small data validation accuracy: 0.252\n"
          ]
        }
      ],
      "source": [
        "# Print final validation accuracy\n",
        "print(\n",
        "    \"Small data validation accuracy:\",\n",
        "    solver.check_accuracy(small_data['X_val'], small_data['y_val'])\n",
        ")"
      ]
    },
    {
      "cell_type": "code",
      "execution_count": null,
      "id": "af38d3c9",
      "metadata": {
        "id": "af38d3c9",
        "outputId": "7f57ec9a-c141-4507-865b-fe9b45c32a32"
      },
      "outputs": [
        {
          "data": {
            "image/png": "[encoded data removed]",
            "text/plain": [
              "<Figure size 720x576 with 2 Axes>"
            ]
          },
          "metadata": {
            "needs_background": "light"
          },
          "output_type": "display_data"
        }
      ],
      "source": [
        "plt.subplot(2, 1, 1)\n",
        "plt.plot(solver.loss_history, 'o')\n",
        "plt.xlabel('iteration')\n",
        "plt.ylabel('loss')\n",
        "\n",
        "plt.subplot(2, 1, 2)\n",
        "plt.plot(solver.train_acc_history, '-o')\n",
        "plt.plot(solver.val_acc_history, '-o')\n",
        "plt.legend(['train', 'val'], loc='upper left')\n",
        "plt.xlabel('epoch')\n",
        "plt.ylabel('accuracy')\n",
        "plt.show()"
      ]
    },
    {
      "cell_type": "markdown",
      "id": "09b520b4",
      "metadata": {
        "id": "09b520b4"
      },
      "source": [
        "Обучите сеть на полном наборе данных. Выведите accuracy на обучающей и валидационной выборках"
      ]
    },
    {
      "cell_type": "code",
      "execution_count": null,
      "id": "0d6f0271",
      "metadata": {
        "id": "0d6f0271",
        "outputId": "75bc6577-84b6-49ae-a2ef-8b93a32b3a70"
      },
      "outputs": [
        {
          "name": "stdout",
          "output_type": "stream",
          "text": [
            "(Iteration 1 / 980) loss: 2.304740\n",
            "(Epoch 0 / 1) train acc: 0.103000; val_acc: 0.107000\n",
            "(Iteration 21 / 980) loss: 2.097386\n",
            "(Iteration 41 / 980) loss: 1.902789\n",
            "(Iteration 61 / 980) loss: 1.845738\n",
            "(Iteration 81 / 980) loss: 1.849243\n",
            "(Iteration 101 / 980) loss: 1.945035\n",
            "(Iteration 121 / 980) loss: 1.575314\n",
            "(Iteration 141 / 980) loss: 1.995830\n",
            "(Iteration 161 / 980) loss: 2.046004\n",
            "(Iteration 181 / 980) loss: 1.800953\n",
            "(Iteration 201 / 980) loss: 1.893899\n",
            "(Iteration 221 / 980) loss: 2.079462\n",
            "(Iteration 241 / 980) loss: 1.543988\n",
            "(Iteration 261 / 980) loss: 1.669328\n",
            "(Iteration 281 / 980) loss: 1.853781\n",
            "(Iteration 301 / 980) loss: 1.715535\n",
            "(Iteration 321 / 980) loss: 1.966380\n",
            "(Iteration 341 / 980) loss: 1.699155\n",
            "(Iteration 361 / 980) loss: 1.890923\n",
            "(Iteration 381 / 980) loss: 1.354456\n",
            "(Iteration 401 / 980) loss: 1.757866\n",
            "(Iteration 421 / 980) loss: 1.535595\n",
            "(Iteration 441 / 980) loss: 1.735928\n",
            "(Iteration 461 / 980) loss: 1.817551\n",
            "(Iteration 481 / 980) loss: 1.543036\n",
            "(Iteration 501 / 980) loss: 1.480119\n",
            "(Iteration 521 / 980) loss: 1.868518\n",
            "(Iteration 541 / 980) loss: 1.716063\n",
            "(Iteration 561 / 980) loss: 1.620126\n",
            "(Iteration 581 / 980) loss: 1.396157\n",
            "(Iteration 601 / 980) loss: 1.722738\n",
            "(Iteration 621 / 980) loss: 1.455144\n",
            "(Iteration 641 / 980) loss: 1.627340\n",
            "(Iteration 661 / 980) loss: 1.664267\n",
            "(Iteration 681 / 980) loss: 1.678373\n",
            "(Iteration 701 / 980) loss: 1.609939\n",
            "(Iteration 721 / 980) loss: 1.709461\n",
            "(Iteration 741 / 980) loss: 1.732735\n",
            "(Iteration 761 / 980) loss: 1.549669\n",
            "(Iteration 781 / 980) loss: 1.834712\n",
            "(Iteration 801 / 980) loss: 1.670022\n",
            "(Iteration 821 / 980) loss: 1.598355\n",
            "(Iteration 841 / 980) loss: 1.503794\n",
            "(Iteration 861 / 980) loss: 1.753691\n",
            "(Iteration 881 / 980) loss: 1.573007\n",
            "(Iteration 901 / 980) loss: 1.395724\n",
            "(Iteration 921 / 980) loss: 1.777133\n",
            "(Iteration 941 / 980) loss: 2.054737\n",
            "(Iteration 961 / 980) loss: 1.603803\n",
            "(Epoch 1 / 1) train acc: 0.446000; val_acc: 0.457000\n"
          ]
        }
      ],
      "source": [
        "model = ThreeLayerConvNet(weight_scale=0.001, hidden_dim=500, reg=0.001)\n",
        "\n",
        "solver = Solver(model, data,\n",
        "                num_epochs=1, batch_size=50,\n",
        "                update_rule='adam',\n",
        "                optim_config={\n",
        "                  'learning_rate': 1e-3,\n",
        "                },\n",
        "                verbose=True, print_every=20)\n",
        "solver.train()"
      ]
    },
    {
      "cell_type": "code",
      "execution_count": null,
      "id": "00bb96d0",
      "metadata": {
        "id": "00bb96d0",
        "outputId": "e70f44c6-d2c7-415e-847a-9121727cc459"
      },
      "outputs": [
        {
          "name": "stdout",
          "output_type": "stream",
          "text": [
            "Full data training accuracy: 0.36\n"
          ]
        }
      ],
      "source": [
        "# Print final training accuracy\n",
        "print(\n",
        "    \"Full data training accuracy:\",\n",
        "    solver.check_accuracy(small_data['X_train'], small_data['y_train'])\n",
        ")"
      ]
    },
    {
      "cell_type": "code",
      "execution_count": null,
      "id": "37f5cdcf",
      "metadata": {
        "id": "37f5cdcf",
        "outputId": "b718e9f1-c9d3-4f3e-915f-7a182bbb491d"
      },
      "outputs": [
        {
          "name": "stdout",
          "output_type": "stream",
          "text": [
            "Full data validation accuracy: 0.457\n"
          ]
        }
      ],
      "source": [
        "# Print final validation accuracy\n",
        "print(\n",
        "    \"Full data validation accuracy:\",\n",
        "    solver.check_accuracy(data['X_val'], data['y_val'])\n",
        ")"
      ]
    },
    {
      "cell_type": "markdown",
      "id": "41dcab83",
      "metadata": {
        "id": "41dcab83"
      },
      "source": [
        "Визуализируйте фильтры на первом слое обученной сети"
      ]
    },
    {
      "cell_type": "code",
      "execution_count": null,
      "id": "a29a940b",
      "metadata": {
        "id": "a29a940b"
      },
      "outputs": [],
      "source": [
        "from scripts.vis_utils import visualize_grid"
      ]
    },
    {
      "cell_type": "code",
      "execution_count": null,
      "id": "2748d3a3",
      "metadata": {
        "id": "2748d3a3",
        "outputId": "41e24a32-6f13-40cf-df2e-9cf291c6a668"
      },
      "outputs": [
        {
          "data": {
            "image/png": "[encoded data removed]",
            "text/plain": [
              "<Figure size 360x360 with 1 Axes>"
            ]
          },
          "metadata": {
            "needs_background": "light"
          },
          "output_type": "display_data"
        }
      ],
      "source": [
        "grid = visualize_grid(model.params['W1'].transpose(0, 2, 3, 1))\n",
        "plt.imshow(grid.astype('uint8'))\n",
        "plt.axis('off')\n",
        "plt.gcf().set_size_inches(5, 5)\n",
        "plt.show()"
      ]
    },
    {
      "cell_type": "code",
      "execution_count": null,
      "id": "c8e819d3",
      "metadata": {
        "id": "c8e819d3"
      },
      "outputs": [],
      "source": []
    }
  ],
  "metadata": {
    "kernelspec": {
      "display_name": "Python 3 (ipykernel)",
      "language": "python",
      "name": "python3"
    },
    "language_info": {
      "codemirror_mode": {
        "name": "ipython",
        "version": 3
      },
      "file_extension": ".py",
      "mimetype": "text/x-python",
      "name": "python",
      "nbconvert_exporter": "python",
      "pygments_lexer": "ipython3",
      "version": "3.9.6"
    },
    "colab": {
      "provenance": []
    }
  },
  "nbformat": 4,
  "nbformat_minor": 5
}